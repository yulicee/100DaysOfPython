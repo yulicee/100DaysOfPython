{
 "cells": [
  {
   "cell_type": "markdown",
   "id": "443b9791-1792-458e-a11c-d5211774e9da",
   "metadata": {},
   "source": [
    "# Automated Birthday Wisher\n",
    "\n",
    "This project demonstrates how to build an automated birthday wishing system using Python. The goal is to send personalized birthday emails to individuals whose birthdays match the current date. \n",
    "\n",
    "### Requirements:\n",
    "- Date Matching: The script checks the current date and compares it against a list of birthdays stored in a CSV file.\n",
    "- Template Selection: If a birthday match is found, the system randomly selects one of several pre-written letter templates.\n",
    "- Email Personalization: The selected template is personalized by replacing placeholders with the recipient's name."
   ]
  },
  {
   "cell_type": "markdown",
   "id": "918e1890-f685-4a15-950b-773170162080",
   "metadata": {},
   "source": [
    "## Imported Required Libraries"
   ]
  },
  {
   "cell_type": "code",
   "execution_count": null,
   "id": "51c3ea1f-f9d5-47e8-9ec5-caf77ad684e7",
   "metadata": {},
   "outputs": [],
   "source": [
    "from datetime import datetime\n",
    "from unittest.mock import patch"
   ]
  },
  {
   "cell_type": "code",
   "execution_count": null,
   "id": "12fa6e29-fc80-4259-97c1-65d7bfda51ef",
   "metadata": {},
   "outputs": [],
   "source": [
    "import os\n",
    "import pandas as pd\n",
    "import random\n",
    "import smtplib"
   ]
  },
  {
   "cell_type": "markdown",
   "id": "7d69fb2b-cb26-41de-880a-817dbd532c84",
   "metadata": {},
   "source": [
    "In this cell, we import the necessary libraries:\n",
    "- datetime: to get the current date.\n",
    "- pandas: to handle data from the CSV file.\n",
    "- random: to select a random letter template.\n",
    "- unittest.mock.patch: to mock the email sending process for safe demonstration.\n",
    "- os: to manage environment variables for sensitive data."
   ]
  },
  {
   "cell_type": "markdown",
   "id": "1ad32809-44b3-45f7-9d8f-df8c90b67ca5",
   "metadata": {},
   "source": [
    "## Set up of Environment Variables for demonstration purposes"
   ]
  },
  {
   "cell_type": "code",
   "execution_count": null,
   "id": "d91c1a67-77f8-4642-a316-0c1499a091e9",
   "metadata": {},
   "outputs": [],
   "source": [
    "os.environ[\"MY_EMAIL\"] = \"your_email@example.com\"\n",
    "os.environ[\"MY_PASSWORD\"] = \"your_password\""
   ]
  },
  {
   "cell_type": "markdown",
   "id": "ed7556ac-3a40-47c6-a918-0269756bc0c2",
   "metadata": {},
   "source": [
    "Here, we set up environment variables for your email and password. This keeps sensitive data secure. For a real application, these should be set in your system's environment rather than in the code."
   ]
  },
  {
   "cell_type": "markdown",
   "id": "a033a78f-267f-49d2-a398-2ee6577045ff",
   "metadata": {},
   "source": [
    "## Retrieve Information from Environment Variables"
   ]
  },
  {
   "cell_type": "code",
   "execution_count": null,
   "id": "40903851-aee7-485c-9177-053d56b2ae61",
   "metadata": {},
   "outputs": [],
   "source": [
    "MY_EMAIL = os.getenv(\"MY_EMAIL\")\n",
    "MY_PASSWORD = os.getenv(\"MY_PASSWORD\")"
   ]
  },
  {
   "cell_type": "markdown",
   "id": "5d94515a-d146-4763-b08b-de16b067931c",
   "metadata": {},
   "source": [
    "We retrieve the email and password from environment variables using os.getenv. This ensures that sensitive information isn't hardcoded in the script."
   ]
  },
  {
   "cell_type": "markdown",
   "id": "f03555cf-2132-4927-8786-10df7c017aff",
   "metadata": {},
   "source": [
    "## Get Today's Date"
   ]
  },
  {
   "cell_type": "code",
   "execution_count": null,
   "id": "f5388ac9-c5da-4d96-92c4-067bd52ec986",
   "metadata": {},
   "outputs": [],
   "source": [
    "today = datetime.now()\n",
    "today_tuple = (today.month, today.day)"
   ]
  },
  {
   "cell_type": "markdown",
   "id": "2928c46d-01f4-47e7-bc92-ab5bdeae00a9",
   "metadata": {},
   "source": [
    "This cell gets the current date using datetime.now() and stores the month and day as a tuple. This will be used to check if today matches any birthday in the data."
   ]
  },
  {
   "cell_type": "markdown",
   "id": "ab23875f-1e31-405d-ace0-2af5c1cf4ea2",
   "metadata": {},
   "source": [
    "## Load the Birthday Data"
   ]
  },
  {
   "cell_type": "code",
   "execution_count": null,
   "id": "29b0dec4-6cac-4f33-9e09-a65de073d212",
   "metadata": {},
   "outputs": [],
   "source": [
    "data = pd.read_csv(\"birthdays.csv\")\n",
    "birthdays_dict = {(data_row.month, data_row.day): data_row for (index, data_row) in data.iterrows()}"
   ]
  },
  {
   "cell_type": "markdown",
   "id": "c049a3a0-8c42-431b-b894-017b6216b7ba",
   "metadata": {},
   "source": [
    "Here, we load the birthday data from a CSV file using pandas. We then create a dictionary where the keys are tuples of the form (month, day), making it easy to look up if today's date matches any birthday."
   ]
  },
  {
   "cell_type": "markdown",
   "id": "5a61d397-e84d-4e0a-841b-c7889d51693a",
   "metadata": {},
   "source": [
    "## Check for Today's Birthdays"
   ]
  },
  {
   "cell_type": "code",
   "execution_count": null,
   "id": "923e2040-8246-4be2-bf83-3b1d3489a3c5",
   "metadata": {},
   "outputs": [],
   "source": [
    "if today_tuple in birthdays_dict:\n",
    "    birthday_person = birthdays_dict[today_tuple]\n",
    "    file_path = f\"letter_templates/letter_{random.randint(1,3)}.txt\"\n",
    "    \n",
    "    with open(file_path) as letter_file:\n",
    "        contents = letter_file.read()\n",
    "        contents = contents.replace(\"[NAME]\", birthday_person[\"name\"])\n",
    "    \n",
    "    print(f\"Subject: Happy Birthday!\\n\\n{contents}\")\n",
    "else:\n",
    "    print(\"No birthdays today!\")"
   ]
  },
  {
   "cell_type": "markdown",
   "id": "56dc460c-ace8-4971-9966-0f7ef1567ea7",
   "metadata": {},
   "source": [
    "This cell checks if today's date matches any birthday in our data. If there's a match, it randomly selects one of the letter templates, personalizes it with the person's name, and then prints the content. This avoids actually sending the email, making it safe to run in a demo environment."
   ]
  },
  {
   "cell_type": "markdown",
   "id": "03a84a9b-2d59-45f3-949b-a0ca6fd690d8",
   "metadata": {},
   "source": [
    "## Mock the Email Sending Process"
   ]
  },
  {
   "cell_type": "code",
   "execution_count": null,
   "id": "17fb49b1-2f11-40c6-b707-b0d77181eacc",
   "metadata": {},
   "outputs": [],
   "source": [
    "if today_tuple in birthdays_dict:\n",
    "    with patch('smtplib.SMTP') as mock_smtp:\n",
    "        with smtplib.SMTP(\"smtp.gmail.com\") as connection:\n",
    "            connection.starttls()\n",
    "            connection.login(MY_EMAIL, MY_PASSWORD)\n",
    "            connection.sendmail(\n",
    "                from_addr=MY_EMAIL,\n",
    "                to_addrs=birthday_person[\"email\"],\n",
    "                msg=f\"Subject: Happy Birthday!\\n\\n{contents}\"\n",
    "            )\n",
    "\n",
    "        mock_smtp.assert_called()"
   ]
  },
  {
   "cell_type": "markdown",
   "id": "9381ae71-6d53-4f5b-b9d9-e34f4d825b15",
   "metadata": {},
   "source": [
    "In this cell, we use unittest.mock.patch to mock the smtplib.SMTP object, preventing an actual email from being sent. This is useful for testing the email-sending logic without risking sending unwanted emails. Finally, mock_smtp.assert_called() confirms that the SMTP object was called as expected."
   ]
  },
  {
   "cell_type": "markdown",
   "id": "606b5255-e7eb-42af-b2f4-8deb53f94691",
   "metadata": {
    "jp-MarkdownHeadingCollapsed": true
   },
   "source": [
    "## Conclusion\n",
    "\n",
    "The Automated Birthday Wisher project has been a practical and rewarding experience, demonstrating how automation can simplify tasks while still keeping a personal touch. This project has shown how technology can streamline processes, making it easier to stay connected with others.\n",
    "\n",
    "An intriguing aspect of the project was reworking the code to function effectively in a simulated environment. This not only provided valuable insights into how the system operates under controlled conditions but also highlighted the potential for further refinement and testing. Exploring scheduled tasks and integrating cloud-based file management added a layer of complexity and realism, showcasing how such systems can be adapted to real-world scenarios.\n",
    "\n",
    "Overall, the Automated Birthday Wisher underscores how technology can be used effectively to manage tasks. It’s a practical example of how automation can support everyday interactions, making processes smoother and more efficient while also demonstrating the value of simulation in ensuring robust and adaptable solutions."
   ]
  }
 ],
 "metadata": {
  "kernelspec": {
   "display_name": "Python 3 (ipykernel)",
   "language": "python",
   "name": "python3"
  },
  "language_info": {
   "codemirror_mode": {
    "name": "ipython",
    "version": 3
   },
   "file_extension": ".py",
   "mimetype": "text/x-python",
   "name": "python",
   "nbconvert_exporter": "python",
   "pygments_lexer": "ipython3",
   "version": "3.12.4"
  }
 },
 "nbformat": 4,
 "nbformat_minor": 5
}
