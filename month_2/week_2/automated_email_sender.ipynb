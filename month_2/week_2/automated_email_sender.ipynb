{
 "cells": [
  {
   "cell_type": "markdown",
   "id": "aa4b659b-7a0c-41ac-a970-672ded093511",
   "metadata": {},
   "source": [
    "# The Automated Motivational Email Sender\n",
    "\n",
    "In this project, I developed an Automated Motivational Email Sender that leverages Python to send motivational quotes via email on a scheduled basis.\n",
    "\n",
    "### Requirements\n",
    "- The script is designed to check the day of the week and specifically sends motivational quotes every Monday. This automation ensures that the recipient receives a positive message at the start of each week, fostering motivation and engagement.\n",
    "- On the designated day, the script reads from a file containing a collection of motivational quotes. It selects a random quote to ensure variety and surprise, making each message unique.\n",
    "- Utilizing Python's smtplib, the script connects to an email server to send the selected quote. This demonstrates practical use of email automation for maintaining personal connections and providing encouragement.\n",
    "- Sensitive information such as email credentials will be handled securely using environment variables to ensure that they are not exposed in the code."
   ]
  },
  {
   "cell_type": "markdown",
   "id": "daebcc1b-95e2-4ffe-add4-082d3d73595c",
   "metadata": {},
   "source": [
    "## Imported Libraries"
   ]
  },
  {
   "cell_type": "code",
   "execution_count": 1,
   "id": "06f99f8f",
   "metadata": {},
   "outputs": [],
   "source": [
    "from unittest.mock import patch"
   ]
  },
  {
   "cell_type": "code",
   "execution_count": 2,
   "id": "1aaf0608-b963-4d25-971c-1009999f2a98",
   "metadata": {},
   "outputs": [],
   "source": [
    "import datetime as dt\n",
    "import os\n",
    "import random\n",
    "import smtplib"
   ]
  },
  {
   "cell_type": "markdown",
   "id": "c0d66377-a53c-4959-aadf-d4c36ea37719",
   "metadata": {},
   "source": [
    "- imports the libraries required for handling emails, date/time operations, random quote selection, and environment variable management."
   ]
  },
  {
   "cell_type": "markdown",
   "id": "0f917451-4e52-42e9-bc15-59df6f619de6",
   "metadata": {},
   "source": [
    "## Set up Environment Variables"
   ]
  },
  {
   "cell_type": "code",
   "execution_count": 3,
   "id": "12cbdc23-9bab-4da2-8f86-149a42f76331",
   "metadata": {},
   "outputs": [],
   "source": [
    "os.environ[\"MY_EMAIL\"] = \"your_email@example.com\"\n",
    "os.environ[\"MY_PASSWORD\"] = \"your_password\""
   ]
  },
  {
   "cell_type": "markdown",
   "id": "14189203",
   "metadata": {},
   "source": [
    "- sets up environment variables for your email and password. This keeps sensitive data secure. For a real application, these should be set in your system's environment rather than in the code"
   ]
  },
  {
   "cell_type": "markdown",
   "id": "56b19099",
   "metadata": {},
   "source": [
    "## Retrieve Environment Variables"
   ]
  },
  {
   "cell_type": "code",
   "execution_count": 4,
   "id": "60da713d",
   "metadata": {},
   "outputs": [],
   "source": [
    "MY_EMAIL = os.getenv(\"MY_EMAIL\")\n",
    "MY_PASSWORD = os.getenv(\"MY_PASSWORD\")"
   ]
  },
  {
   "cell_type": "markdown",
   "id": "701721da-168e-4531-bf7d-1b50d9161227",
   "metadata": {},
   "source": [
    "- sets up the email credentials by fetching them from environment variables\n",
    "- ensure you have these variables set in your environment or use a tool like python-dotenv to load them from a .env file"
   ]
  },
  {
   "cell_type": "markdown",
   "id": "9e9f9fe5-2f84-4442-94f5-ae45533731fb",
   "metadata": {},
   "source": [
    "## Get current Date"
   ]
  },
  {
   "cell_type": "code",
   "execution_count": 5,
   "id": "c2924b0d-4411-492d-859e-1449b3cfda97",
   "metadata": {},
   "outputs": [],
   "source": [
    "now = dt.datetime.now()\n",
    "weekday = now.weekday()"
   ]
  },
  {
   "cell_type": "markdown",
   "id": "cbbbbdff-f158-41eb-a9b0-548b8c227750",
   "metadata": {},
   "source": [
    "- retrieves the current date and determines the day of the week."
   ]
  },
  {
   "cell_type": "markdown",
   "id": "9569dac4-7501-4709-a6b5-925d862fe423",
   "metadata": {},
   "source": [
    "## Check Day and Read Quotes"
   ]
  },
  {
   "cell_type": "code",
   "execution_count": 6,
   "id": "70018cad-3cb8-420b-8fac-ac3d7501b251",
   "metadata": {},
   "outputs": [
    {
     "name": "stdout",
     "output_type": "stream",
     "text": [
      "Today is not Monday; no motivational email sent.\n"
     ]
    }
   ],
   "source": [
    "if weekday == 0:\n",
    "    try:\n",
    "        with open(\"quotes.txt\") as quote_file:\n",
    "            all_quotes = quote_file.readlines()\n",
    "            quote = random.choice(all_quotes).strip()\n",
    "        \n",
    "        print(f\"Subject: Monday Motivation\\n\\n{quote}\")\n",
    "\n",
    "        with patch('smtplib.SMTP') as mock_smtp:\n",
    "            mock_smtp_instance = mock_smtp.return_value\n",
    "            \n",
    "            with smtplib.SMTP(\"smtp.gmail.com\", 587) as connection:\n",
    "                connection.starttls()\n",
    "                connection.login(MY_EMAIL, MY_PASSWORD)\n",
    "                connection.sendmail(\n",
    "                    from_addr=MY_EMAIL,\n",
    "                    to_addrs=\"johndoe@example.com\",\n",
    "                    msg=f\"Subject: Monday Motivation\\n\\n{quote}\"\n",
    "                )\n",
    "            \n",
    "            mock_smtp.assert_called()\n",
    "            mock_smtp_instance.sendmail.assert_called()\n",
    "\n",
    "    except Exception as e:\n",
    "        print(f\"An error occurred: {e}\")\n",
    "else:\n",
    "    print(\"Today is not Monday; no motivational email sent.\")"
   ]
  },
  {
   "cell_type": "markdown",
   "id": "40edbfc0-c85b-4ed7-b994-ace9e87719db",
   "metadata": {},
   "source": [
    "- contains the logic to check if it’s Monday, read a random quote from the file, and send an email with the motivational message\n",
    "- simulates sending the email by printing the content and using a mock for the email-sending process\n",
    "- catches and prints any errors that occur during file reading or email simulation\n",
    "- informs that no email is sent if the day is not Tuesday."
   ]
  },
  {
   "cell_type": "markdown",
   "id": "5f151429",
   "metadata": {},
   "source": [
    "## Conclusion\n",
    "\n",
    "The Automated Motivational Email Sender project highlights how automation can be effectively used with daily routines. By leveraging environment variables for security and simulating email sending, the project ensures safe and practical functionality.\n",
    "\n",
    "This approach not only demonstrates secure handling of sensitive information but also showcases the potential for future enhancements, such as real-time scheduling and cloud integration. Overall, it’s a practical example of how technology can streamline tasks and positively impact daily interactions."
   ]
  }
 ],
 "metadata": {
  "kernelspec": {
   "display_name": "Python 3 (ipykernel)",
   "language": "python",
   "name": "python3"
  },
  "language_info": {
   "codemirror_mode": {
    "name": "ipython",
    "version": 3
   },
   "file_extension": ".py",
   "mimetype": "text/x-python",
   "name": "python",
   "nbconvert_exporter": "python",
   "pygments_lexer": "ipython3",
   "version": "3.12.4"
  }
 },
 "nbformat": 4,
 "nbformat_minor": 5
}
