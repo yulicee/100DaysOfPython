{
 "cells": [
  {
   "cell_type": "markdown",
   "id": "a6178dfa-aa5d-4e22-a0aa-1bda833675a4",
   "metadata": {},
   "source": [
    "# Weather Notification App\n",
    "\n",
    "### Introduction\n",
    "\n",
    "This Jupyter notebook demonstrates a project that integrates weather forecasting and SMS notifications. The goal of this project is to:\n",
    "\n",
    "- **Retrieve Weather Data**: Use the OpenWeatherMap API to get weather forecasts for a specified location.\n",
    "- **Analyze Weather Conditions**: Determine if the weather conditions include rain.\n",
    "- **Send SMS Notifications**: If rain is expected, use the Twilio API to send an SMS notification.\n",
    "\n",
    "Key Components:\n",
    "\n",
    "- **OpenWeatherMap API**: Provides weather data.\n",
    "- **Twilio API**: Sends SMS notifications.\n",
    "\n",
    "**Important Note for Users**: To run this notebook successfully, you will need to obtain specific data:\n",
    "\n",
    "- **API Keys**: Get your OpenWeatherMap API key and Twilio credentials (account SID and auth token).\n",
    "- **Phone Numbers**: Obtain a Twilio phone number and the recipient's phone number.\n",
    "- **Location Coordinates**: Provide the latitude and longitude for the location you want to check.\n",
    "\n",
    "Sensitive information such as API keys, phone numbers, and coordinates are handled securely using environment variables. This approach ensures that sensitive data is kept private and not hardcoded into the script."
   ]
  },
  {
   "cell_type": "markdown",
   "id": "88977fc8-3f4e-43d5-b782-01b96a735ea7",
   "metadata": {},
   "source": [
    "### Install necessary Libraries"
   ]
  },
  {
   "cell_type": "code",
   "execution_count": null,
   "id": "9cf97806-eacb-475b-98b1-91a637400a0d",
   "metadata": {},
   "outputs": [],
   "source": [
    "!pip install requests\n",
    "!pip install twilio"
   ]
  },
  {
   "cell_type": "code",
   "execution_count": null,
   "id": "c39e595b-8209-4421-9006-19dbc514471e",
   "metadata": {},
   "outputs": [],
   "source": [
    "import os\n",
    "import requests\n",
    "from twilio.rest import Client"
   ]
  },
  {
   "cell_type": "markdown",
   "id": "e10297fd-b831-43ec-8bd6-19eb06ccf22b",
   "metadata": {},
   "source": [
    "- Import the necessary Python libraries (requests for making HTTP requests and twilio for sending SMS)"
   ]
  },
  {
   "cell_type": "markdown",
   "id": "89a017bb-2bfe-4df7-b6b2-298ad714e5c0",
   "metadata": {},
   "source": [
    "### Set Environment Variables"
   ]
  },
  {
   "cell_type": "code",
   "execution_count": null,
   "id": "1b78a56e-05f5-48a5-87cb-66201a98ddf8",
   "metadata": {},
   "outputs": [],
   "source": [
    "os.environ['OWM_API_KEY'] = 'your_openweather_api_key'\n",
    "os.environ['TWILIO_ACCOUNT_SID'] = 'your_twilio_account_sid'\n",
    "os.environ['TWILIO_AUTH_TOKEN'] = 'your_twilio_auth_token'\n",
    "os.environ['TWILIO_PHONE_NUMBER'] = 'your_twilio_phone_number'\n",
    "os.environ['RECIPIENT_PHONE_NUMBER'] = 'recipient_phone_number'\n",
    "os.environ['LATITUDE'] = '40.712776'  # Example latitude\n",
    "os.environ['LONGITUDE'] = '-74.005974'  # Example longitude"
   ]
  },
  {
   "cell_type": "markdown",
   "id": "329d94f0-15b0-434f-9263-5d3f2cbb502e",
   "metadata": {},
   "source": [
    "- Replace the placeholder values with your actual credentials and information\n",
    "- This step ensures sensitive data remains secure and separate from the main script logic"
   ]
  },
  {
   "cell_type": "markdown",
   "id": "c39e69bf-4d05-41ee-b36d-9f1371fd2c33",
   "metadata": {},
   "source": [
    "### Retrieve Environment Variables"
   ]
  },
  {
   "cell_type": "code",
   "execution_count": null,
   "id": "9734eb8a-aaef-4219-8b53-452b42edb122",
   "metadata": {},
   "outputs": [],
   "source": [
    "OWM_Endpoint = \"https://api.openweathermap.org/data/2.5/forecast\"\n",
    "api_key = os.environ.get('OWM_API_KEY')\n",
    "account_sid = os.environ.get('TWILIO_ACCOUNT_SID')\n",
    "auth_token = os.environ.get('TWILIO_AUTH_TOKEN')\n",
    "twilio_phone_number = os.environ.get('TWILIO_PHONE_NUMBER')\n",
    "recipient_phone_number = os.environ.get('RECIPIENT_PHONE_NUMBER')\n",
    "latitude = os.environ.get('LATITUDE')\n",
    "longitude = os.environ.get('LONGITUDE')"
   ]
  },
  {
   "cell_type": "markdown",
   "id": "e980993d-4056-4388-9be2-1edadec82bea",
   "metadata": {},
   "source": [
    "- Retrieve the sensitive information stored in environment variables, such as API keys and phone numbers"
   ]
  },
  {
   "cell_type": "markdown",
   "id": "92730870-c046-4bd2-844d-30ed563fc747",
   "metadata": {},
   "source": [
    "### Make the Weather API Request"
   ]
  },
  {
   "cell_type": "code",
   "execution_count": null,
   "id": "de45cb09-1b7c-48ff-82b1-4c86efb76e3b",
   "metadata": {},
   "outputs": [],
   "source": [
    "weather_params = {\n",
    "    \"lat\": latitude,\n",
    "    \"lon\": longitude,\n",
    "    \"appid\": api_key,\n",
    "    \"cnt\": 4,  # Number of time intervals to check\n",
    "}\n",
    "\n",
    "# Make a request to the OpenWeatherMap API\n",
    "response = requests.get(OWM_Endpoint, params=weather_params)\n",
    "response.raise_for_status()\n",
    "weather_data = response.json()"
   ]
  },
  {
   "cell_type": "markdown",
   "id": "59943f06-53e4-4cb9-be67-15142bf8856d",
   "metadata": {},
   "source": [
    "- weather_params: Defines the parameters for the API request, including latitude, longitude, API key, and the number of forecast intervals (cnt)\n",
    "- requests.get(): Sends the HTTP GET request to the OpenWeatherMap API with the defined parameters\n",
    "- response.json(): Parses the JSON response from the API into a Python dictionary"
   ]
  },
  {
   "cell_type": "markdown",
   "id": "285a4393-29e4-4ca4-b942-d69192dd942f",
   "metadata": {},
   "source": [
    "### Determine if it will rain"
   ]
  },
  {
   "cell_type": "code",
   "execution_count": null,
   "id": "d44d5dc1-335e-47da-a7f0-76649506110b",
   "metadata": {},
   "outputs": [],
   "source": [
    "will_rain = False\n",
    "for hour_data in weather_data[\"list\"]:\n",
    "    condition_code = hour_data[\"weather\"][0][\"id\"]\n",
    "    if int(condition_code) < 700:  # Codes less than 700 indicate rain or snow\n",
    "        will_rain = True\n",
    "        break"
   ]
  },
  {
   "cell_type": "markdown",
   "id": "4aba0a6c-534d-4357-800d-f9cdc988df36",
   "metadata": {},
   "source": [
    "- Iterates through the weather data to check the weather condition code\n",
    "- If the condition code is less than 700, which indicates rain or snow, it sets will_rain to True and exits the loop early"
   ]
  },
  {
   "cell_type": "markdown",
   "id": "c018e2b6-3e7c-4412-b024-024d91f50bb4",
   "metadata": {},
   "source": [
    "### Send an SMS Notification"
   ]
  },
  {
   "cell_type": "code",
   "execution_count": null,
   "id": "598e9868-fdd7-464a-9af2-1b315c99f620",
   "metadata": {},
   "outputs": [],
   "source": [
    "if will_rain:\n",
    "    client = Client(account_sid, auth_token)\n",
    "    message = client.messages.create(\n",
    "        body=\"It's going to rain today. Remember to take an umbrella! ☔\",\n",
    "        from_=twilio_phone_number,\n",
    "        to=recipient_phone_number\n",
    "    )\n",
    "    print(f\"SMS sent: {message.sid}\")"
   ]
  },
  {
   "cell_type": "markdown",
   "id": "ed0ac0b3-c175-4c1c-8258-c899ed5c5503",
   "metadata": {},
   "source": [
    "- If will_rain is True, an SMS notification is sent to the recipient"
   ]
  }
 ],
 "metadata": {
  "kernelspec": {
   "display_name": "Python 3",
   "language": "python",
   "name": "python3"
  },
  "language_info": {
   "codemirror_mode": {
    "name": "ipython",
    "version": 3
   },
   "file_extension": ".py",
   "mimetype": "text/x-python",
   "name": "python",
   "nbconvert_exporter": "python",
   "version": "3.8.8"
  }
 },
 "nbformat": 4,
 "nbformat_minor": 5
}
