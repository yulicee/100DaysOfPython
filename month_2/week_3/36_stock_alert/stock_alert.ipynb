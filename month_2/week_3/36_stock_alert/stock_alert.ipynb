{
 "cells": [
  {
   "cell_type": "markdown",
   "id": "f1208d4a-3e99-4c3a-b2a2-d8b9e9779e8f",
   "metadata": {},
   "source": [
    "# Stock Market Alert App\n",
    "\n",
    "### Introduction\n",
    "\n",
    "As someone who has never really been interested in the stock market, I nevertheless was curious about this project which made me create a system that not only tracks stock price changes but also keeps me updated with the latest news related to those changes. The goal was to build a practical tool that could help me stay informed about significant fluctuations in stock prices and their potential causes.\n",
    "\n",
    "### The Challenges I Faced\n",
    "\n",
    "- Handling API Data: One of the first challenges was to correctly fetch and process stock data from the Alpha Vantage API. It required careful parsing of the JSON responses to extract relevant information such as closing prices for consecutive days.\n",
    "- Calculating Price Changes: Calculating the percentage change in stock prices posed its own set of difficulties. Ensuring accurate calculations and handling edge cases, such as very small or very large differences, was crucial.\n",
    "- Fetching and Processing News: Integrating the News API to fetch articles related to significant stock price changes required careful setup and parameter tuning. It was challenging to filter and format the news to be informative and concise.\n",
    "- Sending SMS Alerts: Finally, integrating Twilio to send SMS alerts was a significant milestone. Configuring the Twilio API and handling message formatting were key aspects of this step. Ensuring that each message was clear and informative while keeping within the SMS character limits was a crucial part of the process.\n",
    "\n",
    "### Requirements\n",
    "- Importing Libraries: Setting up and securely managing sensitive information using environment variables.\n",
    "- Fetching Stock Data: Retrieving daily stock prices for a specific company.\n",
    "- Calculating Changes: Determining the percentage change in stock prices and assessing its significance.\n",
    "- Fetching News: Obtaining related news articles if the price change exceeds a certain threshold.\n",
    "- Sending Alerts: Formatting the articles and sending them via SMS using Twilio.\n",
    "\n",
    "### Important: Implement Your Own Information\n",
    "\n",
    "To run this notebook successfully, you will need to replace the placeholders with your own details:\n",
    "- API Keys: You need to obtain and set your own API keys from Alpha Vantage and News API. Replace STOCK_API_KEY and NEWS_API_KEY with your personal keys.\n",
    "- Twilio Credentials: Sign up for a Twilio account and get your own Twilio SID and Auth Token. Replace TWILIO_SID and TWILIO_AUTH_TOKEN with these values.\n",
    "- Phone Numbers: Update VIRTUAL_TWILIO_NUMBER with your Twilio phone number and VERIFIED_NUMBER with the phone number where you want to receive alerts.\n",
    "\n",
    "You can securely store these values as environment variables or directly replace them in the code. Make sure to keep your sensitive information private to avoid any security risks."
   ]
  },
  {
   "cell_type": "markdown",
   "id": "d5ec311f-711b-42c6-b21a-9e66910f3d37",
   "metadata": {},
   "source": [
    "## Import Libraries"
   ]
  },
  {
   "cell_type": "code",
   "execution_count": null,
   "id": "cba4850e-552f-4705-8a57-a77806b9188e",
   "metadata": {},
   "outputs": [],
   "source": [
    "from dotenv import load_dotenv\n",
    "from twilio.rest import Client"
   ]
  },
  {
   "cell_type": "code",
   "execution_count": null,
   "id": "c4b8401b-74b8-4475-832b-464897f1e585",
   "metadata": {},
   "outputs": [],
   "source": [
    "import os\n",
    "import requests"
   ]
  },
  {
   "cell_type": "markdown",
   "id": "ec5d4756-41c3-4322-b498-2e6878111995",
   "metadata": {},
   "source": [
    "- `os` for accessing environment variables securely\n",
    "- `requests` for making HTTP requests to APIs\n",
    "- `twilio.rest.Client` for interacting with the Twilio API to send SMS messages\n",
    "- 'load_dotenv' for loading environment variables from a .env file"
   ]
  },
  {
   "cell_type": "markdown",
   "id": "747b173c-5cf1-4ffc-b67d-12ca73d2563b",
   "metadata": {},
   "source": [
    "## Create A .env File"
   ]
  },
  {
   "cell_type": "code",
   "execution_count": null,
   "id": "da0f0345-dc1b-4663-8c51-186f2dbfc222",
   "metadata": {},
   "outputs": [],
   "source": [
    "STOCK_API_KEY=your_alpha_vantage_api_key\n",
    "NEWS_API_KEY=your_news_api_key\n",
    "TWILIO_SID=your_twilio_sid\n",
    "TWILIO_AUTH_TOKEN=your_twilio_auth_token\n",
    "VIRTUAL_TWILIO_NUMBER=your_twilio_phone_number\n",
    "VERIFIED_NUMBER=your_verified_phone_number"
   ]
  },
  {
   "cell_type": "markdown",
   "id": "22c11195-3819-4fa0-a9f2-c9b2411ebe09",
   "metadata": {},
   "source": [
    "## Set Environment Variables"
   ]
  },
  {
   "cell_type": "code",
   "execution_count": null,
   "id": "8d683325-a38e-4991-b525-1e97b6266b41",
   "metadata": {},
   "outputs": [],
   "source": [
    "load_dotenv()\n",
    "\n",
    "STOCK_API_KEY = os.getenv(\"STOCK_API_KEY\")\n",
    "NEWS_API_KEY = os.getenv(\"NEWS_API_KEY\")\n",
    "TWILIO_SID = os.getenv(\"TWILIO_SID\")\n",
    "TWILIO_AUTH_TOKEN = os.getenv(\"TWILIO_AUTH_TOKEN\")\n",
    "VIRTUAL_TWILIO_NUMBER = os.getenv(\"VIRTUAL_TWILIO_NUMBER\")\n",
    "VERIFIED_NUMBER = os.getenv(\"VERIFIED_NUMBER\")"
   ]
  },
  {
   "cell_type": "markdown",
   "id": "e38896df-4a2f-4e37-8570-8a30451774c4",
   "metadata": {},
   "source": [
    "- Sets environment variables for this notebook (not recommended for production due to security risks)"
   ]
  },
  {
   "cell_type": "markdown",
   "id": "848b87f9-7a10-45dd-8032-24a02f185054",
   "metadata": {},
   "source": [
    "## Access Environment Variables"
   ]
  },
  {
   "cell_type": "code",
   "execution_count": null,
   "id": "403ae647-15bd-489e-93e3-a8dcdf08b05f",
   "metadata": {},
   "outputs": [],
   "source": [
    "VIRTUAL_TWILIO_NUMBER = os.getenv(\"VIRTUAL_TWILIO_NUMBER\")\n",
    "VERIFIED_NUMBER = os.getenv(\"VERIFIED_NUMBER\")\n",
    "STOCK_API_KEY = os.getenv(\"STOCK_API_KEY\")\n",
    "NEWS_API_KEY = os.getenv(\"NEWS_API_KEY\")\n",
    "TWILIO_SID = os.getenv(\"TWILIO_SID\")\n",
    "TWILIO_AUTH_TOKEN = os.getenv(\"TWILIO_AUTH_TOKEN\")"
   ]
  },
  {
   "cell_type": "markdown",
   "id": "b1ce1d6d-edf4-4436-8d0b-461c05897dec",
   "metadata": {},
   "source": [
    "- Environment variables are used to keep sensitive information like API keys and phone numbers secure\n",
    "- Replace the placeholder values with your own environment variable names or directly set the values"
   ]
  },
  {
   "cell_type": "markdown",
   "id": "37abd440-7c83-481d-b25a-fd0be99591d8",
   "metadata": {},
   "source": [
    "## Set Up Stock and Company Information"
   ]
  },
  {
   "cell_type": "code",
   "execution_count": null,
   "id": "d3ea8c96-08ec-41fb-80fc-8dbd3cf268b1",
   "metadata": {},
   "outputs": [],
   "source": [
    "STOCK_NAME = \"TSLA\"\n",
    "COMPANY_NAME = \"Tesla Inc\"\n",
    "\n",
    "STOCK_ENDPOINT = \"https://www.alphavantage.co/query\"\n",
    "NEWS_ENDPOINT = \"https://newsapi.org/v2/everything\""
   ]
  },
  {
   "cell_type": "markdown",
   "id": "caea258e-a427-474d-a607-42df6f430e85",
   "metadata": {},
   "source": [
    "- `STOCK_NAME` is the ticker symbol for the stock you want to monitor (Tesla Inc in this case)\n",
    "- `COMPANY_NAME` is the full name of the company for which you are fetching news\n",
    "- `STOCK_ENDPOINT` and `NEWS_ENDPOINT` are the URLs for the Alpha Vantage and News API endpoints respectively"
   ]
  },
  {
   "cell_type": "markdown",
   "id": "7215c460-27a8-47a8-b642-13e3196b431a",
   "metadata": {},
   "source": [
    "## Get Yesterday's Closing Stock Price"
   ]
  },
  {
   "cell_type": "code",
   "execution_count": null,
   "id": "187a2160-b08f-49ab-9208-473d4c462e17",
   "metadata": {},
   "outputs": [],
   "source": [
    "stock_params = {\n",
    "    \"function\": \"TIME_SERIES_DAILY\",\n",
    "    \"symbol\": STOCK_NAME,\n",
    "    \"apikey\": STOCK_API_KEY,\n",
    "}\n",
    "\n",
    "response = requests.get(STOCK_ENDPOINT, params=stock_params)\n",
    "data = response.json()[\"Time Series (Daily)\"]\n",
    "\n",
    "data_list = [value for (key, value) in data.items()]\n",
    "yesterday_data = data_list[0]\n",
    "yesterday_closing_price = yesterday_data[\"4. close\"]"
   ]
  },
  {
   "cell_type": "markdown",
   "id": "d06ef17b-b823-455d-83a7-d8b6cf358c2b",
   "metadata": {},
   "source": [
    "- Sends a request to the Alpha Vantage API to get the daily time series data for the specified stock\n",
    "- Extracts the closing price for yesterday from the API response\n",
    "- `response.json()` parses the API response as JSON\n",
    "- `\"Time Series (Daily)\"` is the key in the response JSON containing the daily stock data\n",
    "- Converts this data into a list to easily access prices for different days"
   ]
  },
  {
   "cell_type": "markdown",
   "id": "1eced32b-b2b2-48e1-8b93-b8ec73ec08a0",
   "metadata": {},
   "source": [
    "## Get the Day Before Yesterday's Closing Stock Price"
   ]
  },
  {
   "cell_type": "code",
   "execution_count": null,
   "id": "dda562e4-dee5-43d5-959a-7dcbd0b0cc1c",
   "metadata": {},
   "outputs": [],
   "source": [
    "day_before_yesterday_data = data_list[1]\n",
    "day_before_yesterday_closing_price = day_before_yesterday_data[\"4. close\"]"
   ]
  },
  {
   "cell_type": "markdown",
   "id": "2900ce44-08da-4fc7-a3bb-b58add5b8363",
   "metadata": {},
   "source": [
    "- Fetches the closing price for the day before yesterday from the API response\n",
    "- Accesses the data for the day before yesterday by indexing the `data_list`\n",
    "- `\"4. close\"` contains the closing price for each day"
   ]
  },
  {
   "cell_type": "markdown",
   "id": "4b81b305-a1a0-4cd0-9963-bcb1d8c75aae",
   "metadata": {},
   "source": [
    "## Calculate the Difference and Percentage Change"
   ]
  },
  {
   "cell_type": "code",
   "execution_count": null,
   "id": "9769fd0a-da42-4306-8a07-57f9785abb66",
   "metadata": {},
   "outputs": [],
   "source": [
    "difference = float(yesterday_closing_price) - float(day_before_yesterday_closing_price)\n",
    "up_down = \"🔺\" if difference > 0 else \"🔻\"\n",
    "\n",
    "diff_percent = round((difference / float(yesterday_closing_price)) * 100)"
   ]
  },
  {
   "cell_type": "markdown",
   "id": "4f11d0d9-ff46-42a4-8c94-5eb331babd92",
   "metadata": {},
   "source": [
    "- Calculates the difference between yesterday's and the day before yesterday's closing prices\n",
    "- Computes the percentage change to assess the significance of the price movement\n",
    "- `difference` is computed as the difference between the two closing prices\n",
    "- `up_down` determines the symbol to indicate whether the price went up or down\n",
    "- `diff_percent` calculates the percentage change and rounds it for better readability"
   ]
  },
  {
   "cell_type": "markdown",
   "id": "bddb179a-8a05-4c2f-b695-fd01004ab54a",
   "metadata": {},
   "source": [
    "## Fetch News Articles If the Percentage Difference is Significant\n",
    "## Format the Articles and Send Them via Twilio"
   ]
  },
  {
   "cell_type": "code",
   "execution_count": null,
   "id": "d45d7e33-1e4e-46cb-9afb-ed76e48257ab",
   "metadata": {},
   "outputs": [],
   "source": [
    "if abs(diff_percent) > 5:\n",
    "    news_params = {\n",
    "        \"apiKey\": NEWS_API_KEY,\n",
    "        \"qInTitle\": COMPANY_NAME,\n",
    "    }\n",
    "\n",
    "    news_response = requests.get(NEWS_ENDPOINT, params=news_params)\n",
    "    articles = news_response.json()[\"articles\"]\n",
    "\n",
    "    three_articles = articles[:3]\n",
    "    formatted_articles = [\n",
    "    f\"{STOCK_NAME}: {up_down}{diff_percent}%\\nHeadline: {article['title']}. \\nBrief: {article['description']}\"\n",
    "    for article in three_articles\n",
    "    ]\n",
    "\n",
    "    client = Client(TWILIO_SID, TWILIO_AUTH_TOKEN)\n",
    "\n",
    "    for article in formatted_articles:\n",
    "        message = client.messages.create(\n",
    "            body=article,\n",
    "            from_=VIRTUAL_TWILIO_NUMBER,\n",
    "            to=VERIFIED_NUMBER\n",
    "    )"
   ]
  },
  {
   "cell_type": "markdown",
   "id": "9bf5823b-e163-4853-a45d-36e84bf60ac2",
   "metadata": {},
   "source": [
    "- If the percentage change in stock price is greater than 5%, related news articles are fetched using the News API\n",
    "- `news_params` includes the API key and a query to search for articles related to the company name\n",
    "- The `news_response.json()` contains the fetched articles\n",
    "- Then the list is sliced to get the top 3 articles for brevity\n",
    "- Formats the top 3 articles into SMS messages and send them using the Twilio API\n",
    "- `formatted_articles` is a list of strings where each string contains a formatted message with stock information and news\n",
    "- `Client` is used to create a Twilio client instance\n",
    "- `client.messages.create()` sends each message via SMS to the specified phone number"
   ]
  },
  {
   "cell_type": "markdown",
   "id": "f95b7425-f53c-4a55-a2a7-e272bee3f041",
   "metadata": {},
   "source": [
    "## Conclusion\n",
    "\n",
    "So, I’ve just wrapped up this cool project where I built a stock price alert system, and it’s been quite a ride! Here’s the scoop on what made it both exciting and challenging:\n",
    "\n",
    "- **Data Juggling**: I had to pull data from two different APIs – one for stock prices and one for news. Getting the data and making sure it’s accurate was like piecing together a puzzle. It was tricky to handle the JSON responses and extract the right information.\n",
    "\n",
    "- **Crunching Numbers**: Figuring out the percentage changes in stock prices and deciding if they were significant enough to send an alert was a bit of a brain teaser. I had to ensure the calculations were spot on, which took some fine-tuning.\n",
    "\n",
    "- **News Sorting**: Finding relevant news articles and making sure they were formatted nicely for the alerts was another challenge. I wanted to make sure the news was useful and easy to understand, which meant a lot of attention to detail.\n",
    "\n",
    "- **Texting with Twilio**: Integrating Twilio to send SMS alerts was pretty cool but also had its quirks. I had to make sure the messages were formatted correctly and within the character limits, which took some trial and error.\n",
    "\n",
    "Overall, it’s been a really deep learning experience! I’ve learned a lot about working with APIs, automating tasks, and making sure everything works together smoothly. I’m pretty proud of how it turned out!"
   ]
  }
 ],
 "metadata": {
  "kernelspec": {
   "display_name": "Python 3 (ipykernel)",
   "language": "python",
   "name": "python3"
  },
  "language_info": {
   "codemirror_mode": {
    "name": "ipython",
    "version": 3
   },
   "file_extension": ".py",
   "mimetype": "text/x-python",
   "name": "python",
   "nbconvert_exporter": "python",
   "pygments_lexer": "ipython3",
   "version": "3.12.4"
  }
 },
 "nbformat": 4,
 "nbformat_minor": 5
}
