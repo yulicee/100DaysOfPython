{
 "cells": [
  {
   "cell_type": "markdown",
   "id": "3a749791-46e1-4979-a90c-1a119bc3a7f1",
   "metadata": {},
   "source": [
    "# Pixela Sleep Tracker Project\n",
    "\n",
    "Welcome to the Pixela Sleep Tracker Project notebook. In this assignment, I demonstrate how my program interacts with the Pixela API to manage a sleep tracker graph. \n",
    "\n",
    "### Requirements\n",
    "1. **Create a Graph**: Set up a graph to track sleep hours.\n",
    "2. **Add Data Points**: Record daily sleep hours.\n",
    "3. **Update Data Points**: Modify existing records of sleep hours.\n",
    "4. **Delete Data Points**: Remove specific records if necessary.\n",
    "\n",
    "### Note to user\n",
    "Ensure that you replace placeholder values such as `USERNAME`, `TOKEN`, and `GRAPH_ID` with your actual Pixela account details."
   ]
  },
  {
   "cell_type": "markdown",
   "id": "8cf2f0d4-5aed-46b6-b142-94b8978917aa",
   "metadata": {},
   "source": [
    "## Imported Libraries"
   ]
  },
  {
   "cell_type": "code",
   "execution_count": null,
   "id": "72c30618-ec9a-44b0-aec3-7dc3cade1519",
   "metadata": {},
   "outputs": [],
   "source": [
    "import requests"
   ]
  },
  {
   "cell_type": "code",
   "execution_count": null,
   "id": "81951521-be48-44ef-bc20-6720bef204d1",
   "metadata": {},
   "outputs": [],
   "source": [
    "from datetime import datetime"
   ]
  },
  {
   "cell_type": "markdown",
   "id": "b9746388-2960-471c-9ef6-f8d189b96305",
   "metadata": {},
   "source": [
    "- datetime: Helps handle date and time functions, such as generating the current date for the data points\n",
    "- requests: Used to send HTTP requests to the Pixela API for creating, updating, and deleting data"
   ]
  },
  {
   "cell_type": "markdown",
   "id": "5a28c4f9-3f9c-4298-a414-ba3114c41948",
   "metadata": {},
   "source": [
    "## Define constants and headers"
   ]
  },
  {
   "cell_type": "code",
   "execution_count": null,
   "id": "7c0a046d-335c-4973-82af-47cb0f48c1a4",
   "metadata": {},
   "outputs": [],
   "source": [
    "USERNAME = \"USER1\"  # Replace with your Pixela username\n",
    "TOKEN = \"1234567\"  # Replace with your Pixela API token\n",
    "GRAPH_ID = \"graph1\"  # Replace with the ID of your graph\n",
    "PIXELA_ENDPOINT = \"https://pixe.la/v1/users\"\n",
    "\n",
    "headers = {\n",
    "    \"X-USER-TOKEN\": TOKEN\n",
    "}"
   ]
  },
  {
   "cell_type": "markdown",
   "id": "4e8b236b-b72e-4497-823a-54b96031aee1",
   "metadata": {},
   "source": [
    "- USERNAME: Your Pixela username\n",
    "- TOKEN: Your Pixela API token for authentication\n",
    "- GRAPH_ID: The unique identifier for the graph you want to manage\n",
    "- PIXELA_ENDPOINT: The base URL for Pixela API requests\n",
    "- the 'headers' dictionary contains the authentication token needed for API requests"
   ]
  },
  {
   "cell_type": "markdown",
   "id": "b05bf986-de87-4519-bc9b-2e0cf203a58d",
   "metadata": {},
   "source": [
    "## Define 'create_graph' function"
   ]
  },
  {
   "cell_type": "code",
   "execution_count": null,
   "id": "51dc36ff-2e1b-4834-bd27-ff4f3ad5a7f6",
   "metadata": {},
   "outputs": [],
   "source": [
    "def create_graph():\n",
    "    graph_endpoint = f\"{PIXELA_ENDPOINT}/{USERNAME}/graphs\"\n",
    "    graph_config = {\n",
    "        \"id\": GRAPH_ID,\n",
    "        \"name\": \"Sleep Tracker\",\n",
    "        \"unit\": \"hours\",\n",
    "        \"type\": \"float\",\n",
    "        \"color\": \"sora\"\n",
    "    }\n",
    "    \n",
    "    response = requests.post(url=graph_endpoint, json=graph_config, headers=headers)\n",
    "    print(\"Graph creation response:\", response.text)"
   ]
  },
  {
   "cell_type": "markdown",
   "id": "757e7461-db48-4bdc-bb1f-da5e01c1de53",
   "metadata": {},
   "source": [
    "- id: Sets the ID for the new graph\n",
    "- name: Describes the purpose of the graph (e.g., \"Sleep Tracker\")\n",
    "- unit: Indicates the unit of measurement (\"hours\" for sleep)\n",
    "- type: Specifies the data type (\"float\" to allow decimal values)\n",
    "- color: Sets the color of the graph for visual distinction"
   ]
  },
  {
   "cell_type": "markdown",
   "id": "072c5bee-f51a-4807-956c-453be3fdab59",
   "metadata": {},
   "source": [
    "## Define 'create_pixel' function"
   ]
  },
  {
   "cell_type": "code",
   "execution_count": null,
   "id": "99de968d-2ce1-46f8-bf40-1cc1b73c37da",
   "metadata": {},
   "outputs": [],
   "source": [
    "def create_pixel():\n",
    "    pixel_creation_endpoint = f\"{PIXELA_ENDPOINT}/{USERNAME}/graphs/{GRAPH_ID}\"\n",
    "    today = datetime.now()\n",
    "    pixel_data = {\n",
    "        \"date\": today.strftime(\"%Y%m%d\"),\n",
    "        \"quantity\": input(\"Enter the number of hours you slept today: \")\n",
    "    }\n",
    "    response = requests.post(url=pixel_creation_endpoint, json=pixel_data, headers=headers)\n",
    "    print(response.text)"
   ]
  },
  {
   "cell_type": "markdown",
   "id": "4508b85e-6534-4679-acdf-14678887b611",
   "metadata": {},
   "source": [
    "- date: Uses the current date formatted as YYYYMMDD.\n",
    "- quantity: Records the number of hours slept today, input by the user"
   ]
  },
  {
   "cell_type": "markdown",
   "id": "0c7e47d4-3fa1-40cf-b90d-11e8e85a5a16",
   "metadata": {},
   "source": [
    "## Define 'update_pixel' function"
   ]
  },
  {
   "cell_type": "code",
   "execution_count": null,
   "id": "2df86b3f-d048-4153-8aa8-42fb87441c72",
   "metadata": {},
   "outputs": [],
   "source": [
    "def update_pixel():\n",
    "    today = datetime.now()\n",
    "    update_endpoint = f\"{PIXELA_ENDPOINT}/{USERNAME}/graphs/{GRAPH_ID}/{today.strftime('%Y%m%d')}\"\n",
    "    new_pixel_data = {\n",
    "        \"quantity\": input(\"Enter the updated number of hours you slept today: \")\n",
    "    }\n",
    "    response = requests.put(url=update_endpoint, json=new_pixel_data, headers=headers)\n",
    "    print(response.text)"
   ]
  },
  {
   "cell_type": "markdown",
   "id": "101f15c0-c837-4901-9982-84ca2a2f5326",
   "metadata": {},
   "source": [
    "- quantity: Allows the user to update the number of hours slept"
   ]
  },
  {
   "cell_type": "markdown",
   "id": "aed8bc22-be4f-4a46-b589-1c9dba9ec84c",
   "metadata": {},
   "source": [
    "## Define 'delete_pixel' function"
   ]
  },
  {
   "cell_type": "code",
   "execution_count": null,
   "id": "4ccca3ed-5e75-4b0a-9cfb-cdaee2468014",
   "metadata": {},
   "outputs": [],
   "source": [
    "def delete_pixel():\n",
    "    today = datetime.now()\n",
    "    delete_endpoint = f\"{PIXELA_ENDPOINT}/{USERNAME}/graphs/{GRAPH_ID}/{today.strftime('%Y%m%d')}\"\n",
    "    response = requests.delete(url=delete_endpoint, headers=headers)\n",
    "    print(response.text)"
   ]
  },
  {
   "cell_type": "markdown",
   "id": "58bd580b-41a4-4233-b6c5-5461f98bde61",
   "metadata": {},
   "source": [
    "- formats the endpoint URL with the current date to target the correct pixel"
   ]
  },
  {
   "cell_type": "markdown",
   "id": "fa67ad25-05d9-4f31-88d8-1996ecc08846",
   "metadata": {},
   "source": [
    "## Define 'main' function and run"
   ]
  },
  {
   "cell_type": "code",
   "execution_count": null,
   "id": "2c6da265-0111-451e-8e61-45d0f5bd8e6d",
   "metadata": {},
   "outputs": [],
   "source": [
    "def main():\n",
    "    # Uncomment the following line if you need to create the graph\n",
    "    # create_graph()\n",
    "\n",
    "    while True:\n",
    "        print(\"\\nOptions:\")\n",
    "        print(\"1. Create Pixel\")\n",
    "        print(\"2. Update Pixel\")\n",
    "        print(\"3. Delete Pixel\")\n",
    "        print(\"4. Exit\")\n",
    "        choice = input(\"Enter your choice: \")\n",
    "\n",
    "        if choice == \"1\":\n",
    "            create_pixel()\n",
    "        elif choice == \"2\":\n",
    "            update_pixel()\n",
    "        elif choice == \"3\":\n",
    "            delete_pixel()\n",
    "        elif choice == \"4\":\n",
    "            print(\"Exiting...\")\n",
    "            break\n",
    "        else:\n",
    "            print(\"Invalid choice. Please try again.\")\n",
    "\n",
    "if __name__ == \"__main__\":\n",
    "    main()"
   ]
  },
  {
   "cell_type": "markdown",
   "id": "c250a8e1-be7c-4295-8598-7b7fab3614e7",
   "metadata": {},
   "source": [
    "- Create Pixel: Adds a new pixel to the graph.\n",
    "- Update Pixel: Updates an existing pixel.\n",
    "- Delete Pixel: Removes a pixel from the graph.\n",
    "- Exit: Ends the program."
   ]
  },
  {
   "cell_type": "markdown",
   "id": "b7a2e370-3453-488b-9644-5ecbd6186a32",
   "metadata": {},
   "source": [
    "# Conclusion\n",
    "\n",
    "In this notebook, I worked with the Pixela API to set up and manage a sleep tracker graph. This assignment helped me learn several key things:\n",
    "\n",
    "1. **Using APIs**: I got more hands-on experience with making requests to an API to create, update, and delete data. This showed me how different applications communicate and manage data.\n",
    "\n",
    "2. **Creating and Managing Graphs**: I learned how to create a graph, set its properties, and manage it through the API. This was useful for understanding how to visualize and organize data effectively.\n",
    "\n",
    "3. **Handling Data Updates**: I practiced adding, updating, and deleting data points based on user input. This taught me how to keep track of and adjust data over time.\n",
    "\n",
    "4. **User Interaction**: By creating a simple menu for user input, I learned how to make a basic interface for interacting with the application. This is important for making sure that users can easily manage their data.\n",
    "\n",
    "5. **Debugging**: I encountered and solved some issues while working with the API, which helped me get better at troubleshooting and fixing problems.\n",
    "\n",
    "Overall, this project gave me lots of practical experience with APIs and data management. It was a great way to learn about handling real-time data and building user interactions."
   ]
  }
 ],
 "metadata": {
  "kernelspec": {
   "display_name": "Python 3 (ipykernel)",
   "language": "python",
   "name": "python3"
  },
  "language_info": {
   "codemirror_mode": {
    "name": "ipython",
    "version": 3
   },
   "file_extension": ".py",
   "mimetype": "text/x-python",
   "name": "python",
   "nbconvert_exporter": "python",
   "pygments_lexer": "ipython3",
   "version": "3.12.4"
  }
 },
 "nbformat": 4,
 "nbformat_minor": 5
}
