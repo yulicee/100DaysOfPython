{
 "cells": [
  {
   "cell_type": "markdown",
   "id": "74558350-5196-4591-bd39-3917dd6979d1",
   "metadata": {},
   "source": [
    "# **Personal Workout Tracker Project with Nutritionix and Sheety APIs**\n",
    "\n",
    "## **Introduction**\n",
    "\n",
    "In this project, I set out to build a personalized workout tracker that integrates with two APIs: Nutritionix for retrieving exercise details and Sheety for logging the data into a Google Sheet. The project aimed to deepen my understanding of API interactions, HTTP requests, and secure handling of sensitive data using environment variables.\n",
    "\n",
    "As I worked through this project, I encountered challenges such as handling complex API responses, managing authentication securely, and working with Python's `datetime` module for accurate time tracking. This notebook documents the process, from the initial setup to the final implementation, highlighting the technical intricacies of each step.\n",
    "\n",
    "## **Requirements**\n",
    "- Setup API Credentials and Google Spreadsheet\n",
    "- Get Exercise Stats with Natural Language Queries\n",
    "- Setup Google Sheet with Sheety\n",
    "- Saving Data ino Google Sheets\n",
    "- Authenticate Sheety API\n",
    "- Setup Environment Variables\n",
    "\n",
    "## **Setup Instructions**\n",
    "\n",
    "Before running this notebook, you need to set up a few things:\n",
    "**Create a `.env` file**:\n",
    "- In the root directory of this project (where the notebook is located), create a file named `.env`.\n",
    "- In this file, you will store your API keys and other sensitive information. The `.env` file should look like this:\n",
    "\n",
    "   ```plaintext\n",
    "   ENV_NIX_APP_ID=your_nutritionix_app_id\n",
    "   ENV_NIX_API_KEY=your_nutritionix_api_key\n",
    "   ENV_SHEETY_ENDPOINT=your_sheety_endpoint_url\n",
    "   ENV_SHEETY_USERNAME=your_sheety_username\n",
    "   ENV_SHEETY_PASSWORD=your_sheety_password"
   ]
  },
  {
   "cell_type": "markdown",
   "id": "9838f6f2-fc98-49b2-a47d-e449e3f920f4",
   "metadata": {},
   "source": [
    "## **Importing Necessary Libraries**\n",
    "\n",
    "- `datetime`: Provides tools for manipulating dates and times, which are crucial for tracking the workout session.\n",
    "- `os` and `dotenv`: Used together to securely manage environment varia\n",
    "- `requests`: Facilitates HTTP requests to interact with external APIs."
   ]
  },
  {
   "cell_type": "code",
   "execution_count": null,
   "id": "8507caf9-2e54-437e-9cb8-aca6c6f92915",
   "metadata": {},
   "outputs": [],
   "source": [
    "from datetime import datetime, timedelta\n",
    "from dotenv import load_dotenv"
   ]
  },
  {
   "cell_type": "code",
   "execution_count": null,
   "id": "83c75a89-fa05-49fd-b990-a671bb457085",
   "metadata": {},
   "outputs": [],
   "source": [
    "import os\n",
    "import requests"
   ]
  },
  {
   "cell_type": "markdown",
   "id": "b8432a93-42d8-45d0-b951-0cbb9501f705",
   "metadata": {},
   "source": [
    "## **Loading Environment Variables**\n",
    "\n",
    "To ensure the security of API keys and other sensitive data, I used environment variables. The `dotenv` library loads these variables from a `.env` file, keeping them separate from the main codebase. This practice not only enhances security but also makes the code more portable, as the `.env` file can be easily configured for different environments.\n",
    "\n",
    "The environment variables are loaded and stored in specific variables for later use, including API credentials and user-specific data required by Nutritionix."
   ]
  },
  {
   "cell_type": "code",
   "execution_count": null,
   "id": "37001806-0f4a-455a-9207-6704b5e9917d",
   "metadata": {},
   "outputs": [],
   "source": [
    "# Load environment variables from .env file\n",
    "load_dotenv()\n",
    "\n",
    "# Personal data for Nutritionix API, which influences calorie calculations.\n",
    "GENDER = \"male\"\n",
    "WEIGHT_KG = 85\n",
    "HEIGHT_CM = 180\n",
    "AGE = 35\n",
    "\n",
    "# Retrieve Nutritionix API credentials from environment variables.\n",
    "APP_ID = os.getenv(\"ENV_NIX_APP_ID\")\n",
    "API_KEY = os.getenv(\"ENV_NIX_API_KEY\")"
   ]
  },
  {
   "cell_type": "markdown",
   "id": "8be41a7a-269e-4f2b-b34e-fcba32288420",
   "metadata": {},
   "source": [
    "## **Getting User Input**\n",
    "\n",
    "The input section of the code is designed to collect real-time user data, which includes the type of exercises performed, the start time, and the duration of the workout. This data is critical as it forms the basis of the API query to Nutritionix.\n",
    "\n",
    "Using the `input()` function, the user's input is captured and stored. The inputs are later used to calculate time intervals and to structure the API request."
   ]
  },
  {
   "cell_type": "code",
   "execution_count": null,
   "id": "52d158ea-0f58-4e00-819b-86a502152d16",
   "metadata": {},
   "outputs": [],
   "source": [
    "# Prompt the user for exercise details, start time, and duration.\n",
    "exercise_text = input(\"Tell me which exercises you did: \")\n",
    "start_time_input = input(\"Enter the start time (hh:mm): \")\n",
    "duration_input = input(\"Enter the duration (in minutes): \")"
   ]
  },
  {
   "cell_type": "markdown",
   "id": "5d9e5a26-ac16-4236-b4de-96ce6d4c5199",
   "metadata": {},
   "source": [
    "## **Processing Date and Time**\n",
    "\n",
    "In this step, I leveraged the `datetime` module to handle and manipulate time data. The user-provided start time is parsed into a `datetime` object, allowing for precise calculations. \n",
    "I then calculated the end time by adding the duration to the start time. \n",
    "\n",
    "The `strftime()` method is used to format both the start and end times for consistency, ensuring that the data logged into the Google Sheet is in a standard, readable format."
   ]
  },
  {
   "cell_type": "code",
   "execution_count": null,
   "id": "8d7cb2b6-96ca-478d-91ff-23583d13a2f3",
   "metadata": {},
   "outputs": [],
   "source": [
    "# Capture today's date in the required format.\n",
    "today_date = datetime.now().strftime(\"%d/%m/%Y\")\n",
    "\n",
    "# Parse the user-provided start time and calculate the end time based on the duration.\n",
    "start_time = datetime.strptime(start_time_input, \"%H:%M\")\n",
    "duration_minutes = float(duration_input)\n",
    "end_time = start_time + timedelta(minutes=duration_minutes)\n",
    "\n",
    "# Format the start and end times for display and logging.\n",
    "start_time_formatted = start_time.strftime(\"%H:%M\")\n",
    "end_time_formatted = end_time.strftime(\"%H:%M\")"
   ]
  },
  {
   "cell_type": "markdown",
   "id": "f4fcea2d-1654-4425-8ba5-5856fb94d57e",
   "metadata": {},
   "source": [
    "## **Making the Nutritionix API Call**\n",
    "\n",
    "The core functionality of the project lies in interacting with the Nutritionix API. Here, I constructed an HTTP POST request to the Nutritionix endpoint, passing the exercise query along with user-specific details such as gender, weight, height, and age. These details are vital as they allow the API to return personalized exercise data, such as the number of calories burned.\n",
    "\n",
    "The `requests` library handles the API call, with the response being stored in JSON format. The challenge here was ensuring the request was correctly structured and authenticated using the API keys retrieved from the environment variables."
   ]
  },
  {
   "cell_type": "code",
   "execution_count": null,
   "id": "ce95298d-1cac-42d0-ad36-b7713ae1bba4",
   "metadata": {},
   "outputs": [],
   "source": [
    "# Construct headers for the API request, including authentication details.\n",
    "headers = {\n",
    "    \"x-app-id\": APP_ID,\n",
    "    \"x-app-key\": API_KEY,\n",
    "}\n",
    "\n",
    "# Prepare parameters for the POST request, including exercise details and personal data.\n",
    "parameters = {\n",
    "    \"query\": exercise_text,\n",
    "    \"gender\": GENDER,\n",
    "    \"weight_kg\": WEIGHT_KG,\n",
    "    \"height_cm\": HEIGHT_CM,\n",
    "    \"age\": AGE\n",
    "}\n",
    "\n",
    "# Make the API request and store the response in JSON format.\n",
    "response = requests.post(exercise_endpoint, json=parameters, headers=headers)\n",
    "result = response.json()\n",
    "print(f\"Nutritionix API call: \\n {result} \\n\")"
   ]
  },
  {
   "cell_type": "markdown",
   "id": "6e560249-7032-47ea-8865-a48c9bc7edf3",
   "metadata": {},
   "source": [
    "## **Logging Data to Google Sheets with Sheety**\n",
    "\n",
    "The final step involves logging the retrieved exercise data into a Google Sheet via the Sheety API. Each exercise returned by Nutritionix is looped over, and the relevant details are structured into a dictionary that Sheety can process.\n",
    "\n",
    "The use of a loop ensures that multiple exercises can be logged in a single session. The challenge was correctly formatting the data and handling authentication with Sheety, which required basic authentication using credentials stored in environment variables."
   ]
  },
  {
   "cell_type": "code",
   "execution_count": null,
   "id": "49e8bd43-9615-496f-be92-ba2b4e552c2c",
   "metadata": {},
   "outputs": [],
   "source": [
    "# Define the Google Sheet name and the Sheety endpoint from environment variables.\n",
    "GOOGLE_SHEET_NAME = \"workout\"\n",
    "sheet_endpoint = os.getenv(\"ENV_SHEETY_ENDPOINT\")\n",
    "\n",
    "# Iterate over each exercise returned by Nutritionix and log it into the Google Sheet.\n",
    "for exercise in result[\"exercises\"]:\n",
    "    # Structure the data in a format accepted by Sheety.\n",
    "    sheet_inputs = {\n",
    "        GOOGLE_SHEET_NAME: {\n",
    "            \"date\": today_date,\n",
    "            \"time\": start_time_formatted,\n",
    "            \"duration\": duration_input,\n",
    "            \"exercise\": exercise[\"name\"].title(),\n",
    "            \"calories\": exercise[\"nf_calories\"]\n",
    "        }\n",
    "    }\n",
    "\n",
    "    # Make the API request to Sheety with basic authentication.\n",
    "    sheet_response = requests.post(\n",
    "        sheet_endpoint,\n",
    "        json=sheet_inputs,\n",
    "        auth=(\n",
    "            os.getenv(\"ENV_SHEETY_USERNAME\"),\n",
    "            os.getenv(\"ENV_SHEETY_PASSWORD\"),\n",
    "        )\n",
    "    )\n",
    "\n",
    "    # Print the response to confirm the data was logged successfully.\n",
    "    print(f\"Sheety Response: \\n {sheet_response.text}\")"
   ]
  },
  {
   "cell_type": "markdown",
   "id": "0c11e8d7-e388-49d4-9931-7fa5ac37f5d6",
   "metadata": {},
   "source": [
    "## **Conclusion**\n",
    "\n",
    "This project was a comprehensive exercise in integrating multiple APIs and managing HTTP requests within Python. The process of securely handling API keys, parsing complex JSON responses, and ensuring the integrity of time-based data were a steep learning curve.\n",
    "\n",
    "The challenges I encountered, particularly with API authentication and data formatting, involved quite some time spent with debugging and iteration. The result is a functional, automated workout tracker that not only provides instant feedback on exercises but also seamlessly logs this data into a Google Sheet for tracking over time.\n",
    "\n",
    "Future improvements could include expanding the types of data logged, integrating additional health metrics, or enhancing the user interface for better interactivity."
   ]
  }
 ],
 "metadata": {
  "kernelspec": {
   "display_name": "Python 3 (ipykernel)",
   "language": "python",
   "name": "python3"
  },
  "language_info": {
   "codemirror_mode": {
    "name": "ipython",
    "version": 3
   },
   "file_extension": ".py",
   "mimetype": "text/x-python",
   "name": "python",
   "nbconvert_exporter": "python",
   "pygments_lexer": "ipython3",
   "version": "3.12.4"
  }
 },
 "nbformat": 4,
 "nbformat_minor": 5
}
