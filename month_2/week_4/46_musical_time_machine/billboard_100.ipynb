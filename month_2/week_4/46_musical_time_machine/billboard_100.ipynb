{
 "cells": [
  {
   "cell_type": "markdown",
   "id": "ed701546",
   "metadata": {},
   "source": [
    "# Billboard Top 100 to Spotify Playlist\n",
    "\n",
    "## Introduction\n",
    "\n",
    "Welcome! In this project, I'll show you how to create a Spotify playlist from the Billboard Hot 100 chart for any date you choose. 🎶\n",
    "\n",
    "I’m using a combination of web scraping and Spotify API integration:\n",
    "- **BeautifulSoup** for scraping the Billboard Hot 100.\n",
    "- **Spotipy** for interacting with the Spotify API to create and manage playlists.\n",
    "\n",
    "You will need to register with Spotify and get API credentials for this program to work.\n",
    "\n",
    "Let’s get started!"
   ]
  },
  {
   "cell_type": "markdown",
   "id": "7a17a969",
   "metadata": {},
   "source": [
    "\n",
    "## Setup and Dependencies\n",
    "\n",
    "Before diving in, I need to set up the environment and install the required libraries. These include:\n",
    "- `requests` and `BeautifulSoup` for web scraping.\n",
    "- `spotipy` for working with Spotify.\n",
    "- `python-dotenv` to manage environment variables securely."
   ]
  },
  {
   "cell_type": "code",
   "execution_count": null,
   "id": "3d3ba483",
   "metadata": {},
   "outputs": [],
   "source": [
    "from bs4 import BeautifulSoup\n",
    "from dotenv import load_dotenv\n",
    "from spotipy.oauth2 import SpotifyOAuth"
   ]
  },
  {
   "cell_type": "code",
   "execution_count": null,
   "id": "0995ef9a",
   "metadata": {},
   "outputs": [],
   "source": [
    "import os\n",
    "import requests\n",
    "import spotipy"
   ]
  },
  {
   "cell_type": "markdown",
   "id": "796dc1f5",
   "metadata": {},
   "source": [
    "## Loading Environment Variables\n",
    "\n",
    "Now, I'll load environment variables from a `.env` file. This keeps sensitive information like API keys secure and separate from the code.\n"
   ]
  },
  {
   "cell_type": "code",
   "execution_count": null,
   "id": "0731700e",
   "metadata": {},
   "outputs": [],
   "source": [
    "# .env plaintext\n",
    "SPOTIPY_CLIENT_ID=YOUR_SPOTIFY_CLIENT_ID\n",
    "SPOTIPY_CLIENT_SECRET=YOUR_SPOTIFY_CLIENT_SECRET\n",
    "SPOTIPY_REDIRECT_URI=http://example.com #Use this example-webpage"
   ]
  },
  {
   "cell_type": "code",
   "execution_count": null,
   "id": "f3dd4fb9",
   "metadata": {},
   "outputs": [],
   "source": [
    "# Load environment variables from .env file\n",
    "load_dotenv()"
   ]
  },
  {
   "cell_type": "markdown",
   "id": "b8f3bc3b",
   "metadata": {},
   "source": [
    "## Spotify Authentication\n",
    "\n",
    "Next, I'll authenticate with Spotify using the Spotipy library. This involves using credentials stored in the `.env` file to access Spotify’s API and manage playlists."
   ]
  },
  {
   "cell_type": "code",
   "execution_count": null,
   "id": "f778621c",
   "metadata": {},
   "outputs": [],
   "source": [
    "# Spotify Authentication\n",
    "sp = spotipy.Spotify(\n",
    "    auth_manager=SpotifyOAuth(\n",
    "        scope=\"playlist-modify-private\",\n",
    "        redirect_uri=os.getenv(\"SPOTIPY_REDIRECT_URI\"),\n",
    "        client_id=os.getenv(\"SPOTIPY_CLIENT_ID\"),\n",
    "        client_secret=os.getenv(\"SPOTIPY_CLIENT_SECRET\"),\n",
    "        show_dialog=True,\n",
    "        cache_path=\"token.txt\"\n",
    "    )\n",
    ")\n",
    "\n",
    "# Print Spotify User ID\n",
    "user_id = sp.current_user()[\"id\"]\n",
    "print(f\"Spotify User ID: {user_id}\")"
   ]
  },
  {
   "cell_type": "markdown",
   "id": "c080ef56",
   "metadata": {},
   "source": [
    "## Scraping Billboard Hot 100\n",
    "\n",
    "I’ll now scrape the Billboard Hot 100 chart for a given date. I’ll fetch the page content and extract the song titles."
   ]
  },
  {
   "cell_type": "code",
   "execution_count": null,
   "id": "03f25b7a",
   "metadata": {},
   "outputs": [],
   "source": [
    "# Scraping Billboard 100\n",
    "date = input(\"Which year do you want to travel to? Type the date in this format YYYY-MM-DD: \")\n",
    "response = requests.get(f\"https://www.billboard.com/charts/hot-100/{date}/\")\n",
    "soup = BeautifulSoup(response.text, 'html.parser')\n",
    "\n",
    "# Extract song names\n",
    "song_names_spans = soup.select(\"li ul li h3\")\n",
    "song_names = [song.getText().strip() for song in song_names_spans]\n",
    "print(\"Top 100 Songs:\")\n",
    "for index, song in enumerate(song_names[:10], start=1):  # Show the first 10 songs for brevity\n",
    "    print(f\"{index}: {song}\")"
   ]
  },
  {
   "cell_type": "markdown",
   "id": "40024fcc",
   "metadata": {},
   "source": [
    "## Searching for Songs on Spotify\n",
    "\n",
    "With the song titles in hand, I’ll search for these songs on Spotify and get their URIs. If a song isn’t found, I’ll skip it."
   ]
  },
  {
   "cell_type": "code",
   "execution_count": null,
   "id": "90accfe2",
   "metadata": {},
   "outputs": [],
   "source": [
    "# Searching Spotify for songs by title\n",
    "song_uris = []\n",
    "year = date.split(\"-\")[0]\n",
    "for song in song_names:\n",
    "    query = f\"track:{song} year:{year}\"\n",
    "    result = sp.search(q=query, type=\"track\")\n",
    "    print(f\"Searching for: {query}\")\n",
    "    try:\n",
    "        uri = result[\"tracks\"][\"items\"][0][\"uri\"]\n",
    "        song_uris.append(uri)\n",
    "    except IndexError:\n",
    "        print(f\"{song} doesn't exist in Spotify. Skipped.\")\n",
    "\n",
    "print(f\"Found {len(song_uris)} songs on Spotify.\")"
   ]
  },
  {
   "cell_type": "markdown",
   "id": "26ff27f1",
   "metadata": {},
   "source": [
    "## Creating and Adding to a Spotify Playlist\n",
    "\n",
    "Finally, I’ll create a new private playlist on Spotify and add the songs I found to this playlist."
   ]
  },
  {
   "cell_type": "code",
   "execution_count": null,
   "id": "60a9e47d",
   "metadata": {},
   "outputs": [],
   "source": [
    "# Creating a new private playlist in Spotify\n",
    "playlist = sp.user_playlist_create(user=user_id, name=f\"{date} Billboard 100\", public=False)\n",
    "print(f\"Created Playlist: {playlist['name']} with ID: {playlist['id']}\")\n",
    "\n",
    "# Adding songs found into the new playlist\n",
    "if song_uris:\n",
    "    sp.playlist_add_items(playlist_id=playlist[\"id\"], items=song_uris)\n",
    "    print(f\"Added {len(song_uris)} songs to the playlist.\")\n",
    "else:\n",
    "    print(\"No songs to add to the playlist.\")"
   ]
  },
  {
   "cell_type": "markdown",
   "id": "ccd95e86",
   "metadata": {},
   "source": [
    "## Conclusion\n",
    "\n",
    "Wow, we did it! 🎉\n",
    "\n",
    "In this project, we turned the Billboard Hot 100 chart into a Spotify playlist. Here’s a quick overview of what we achieved:\n",
    "1. **Scraped** the top hits from Billboard for any date you’re curious about.\n",
    "2. **Authenticated** with Spotify, letting us interact with your playlists.\n",
    "3. **Searched** for each song on Spotify and gathered their URIs.\n",
    "4. **Created** a shiny new private playlist and **added** all those awesome songs to it!\n",
    "\n",
    "It's pretty cool to see a historical snapshot of music turned into a personalized playlist, don’t you think? Now you can listen to the top hits from any date as if you were there!\n",
    "\n",
    "Feel free to play around with this code, maybe add more features like searching for artists or albums, or even share the playlist with friends. 🎶\n",
    "\n",
    "Thanks for joining me on this musical journey. If you have any questions or suggestions, drop a comment or reach out. Happy listening and have fun with your Spotify playlists! 🚀🎧"
   ]
  }
 ],
 "metadata": {
  "kernelspec": {
   "display_name": "Python 3",
   "language": "python",
   "name": "python3"
  },
  "language_info": {
   "codemirror_mode": {
    "name": "ipython",
    "version": 3
   },
   "file_extension": ".py",
   "mimetype": "text/x-python",
   "name": "python",
   "nbconvert_exporter": "python",
   "pygments_lexer": "ipython3",
   "version": "3.12.4"
  }
 },
 "nbformat": 4,
 "nbformat_minor": 5
}
