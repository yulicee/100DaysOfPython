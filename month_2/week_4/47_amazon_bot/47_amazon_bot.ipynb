{
 "cells": [
  {
   "cell_type": "markdown",
   "id": "0ece85aa-7427-4ca4-b56b-986eed9861a0",
   "metadata": {},
   "source": [
    "## Amazon Price Tracker with Email Alert System\n",
    "\n",
    "As part of a course assignment, I developed this Python program to track product prices on Amazon and automatically send an email alert when the price drops below a predefined target. The project leverages web scraping techniques to extract product information such as the current price and title, compares the price to my set threshold, and sends me a notification when a deal is available.\n",
    "\n",
    "This automation not only serves as a practical tool for real-world price monitoring but also demonstrates the power of Python for handling web data and email integration. By building this system, I was able to explore key concepts like web scraping, data extraction, and email automation, all while solving a problem that many shoppers face.\n",
    "\n",
    "It’s a project that combines both technical learning and practical application, showcasing how programming can simplify everyday tasks and enhance efficiency."
   ]
  },
  {
   "cell_type": "markdown",
   "id": "1ad66a30-3f4b-41f4-a955-bf3fade4dc95",
   "metadata": {},
   "source": [
    "### Inmported Libraries"
   ]
  },
  {
   "cell_type": "code",
   "execution_count": null,
   "id": "33620227-df03-4a16-99e2-9b5e511e7d0e",
   "metadata": {},
   "outputs": [],
   "source": [
    "import logging\n",
    "import os\n",
    "import re\n",
    "import requests\n",
    "import smtplib"
   ]
  },
  {
   "cell_type": "markdown",
   "id": "9d9946cf-b54b-410d-9286-22fc60ad6ef7",
   "metadata": {},
   "source": [
    "- **Requests**: For fetching the HTML content of the Amazon product page.\n",
    "- **BeautifulSoup (bs4)**: For parsing and scraping the product details like price and title from the HTML.\n",
    "- **smtplib**: For sending an email alert when the price drops below the desired target.\n",
    "- **dotenv**: To securely store sensitive information such as email credentials and target price in a `.env` file."
   ]
  },
  {
   "cell_type": "code",
   "execution_count": null,
   "id": "07f95734-9fa1-4c6c-a848-d6f0a4afe2d3",
   "metadata": {},
   "outputs": [],
   "source": [
    "from bs4 import BeautifulSoup\n",
    "from dotenv import load_dotenv"
   ]
  },
  {
   "cell_type": "markdown",
   "id": "fed05053-9be3-43f0-9746-eec553ea6b30",
   "metadata": {},
   "source": [
    "### Technical Overview\n",
    "\n",
    "1. **Web Scraping**:\n",
    "   The script uses the `requests` library to send a GET request to the Amazon product page. The response contains the HTML content, which is then parsed using the `BeautifulSoup` library to extract relevant data. Specifically, we look for:\n",
    "   - Product title: Found in the HTML element with the `id=\"productTitle\"`.\n",
    "   - Product price: Extracted from the element with the `class=\"a-offscreen\"`.\n",
    "\n",
    "2. **Price Comparison**:\n",
    "   The scraped price is converted from text to a float and compared with a predefined target price that is stored in an environment variable (`TARGET_PRICE`). If the price is below the target, the program proceeds to send an email.\n",
    "\n",
    "3. **Email Alert**:\n",
    "   The email is sent using Python’s `smtplib` library, which connects to Gmail’s SMTP server (or another email provider’s server). The email credentials (username, password, and server details) are securely stored in the `.env` file.\n",
    "\n",
    "4. **Error Handling**:\n",
    "   The program includes error handling for:\n",
    "   - Failed HTTP requests when fetching the product page.\n",
    "   - Inability to find or extract price and title data from the HTML.\n",
    "   - Errors during email login or sending the email.\n",
    "\n",
    "The `.env` file is used to securely store the following:\n",
    "- **SMTP_ADDRESS**: The address of the email SMTP server (e.g., smtp.gmail.com).\n",
    "- **EMAIL_ADDRESS**: Your email address from which the alert will be sent.\n",
    "- **EMAIL_PASSWORD**: The app-specific password for the email (if 2FA is enabled).\n",
    "- **TARGET_PRICE**: The price that triggers the alert."
   ]
  },
  {
   "cell_type": "code",
   "execution_count": null,
   "id": "a85b5868-f089-4cb8-b283-2b6adec7f8f7",
   "metadata": {},
   "outputs": [],
   "source": [
    "# Creating a requirements.txt file\n",
    "\n",
    "with open('requirements.txt', 'w') as f:\n",
    "    f.write('requests\\n')\n",
    "    f.write('beautifulsoup4\\n')\n",
    "    f.write('python-dotenv\\n')\n",
    "    f.write('smtplib\\n')\n",
    "\n",
    "print(\"requirements.txt file has been created.\")"
   ]
  },
  {
   "cell_type": "markdown",
   "id": "14b0c19e-1baa-4942-b00a-a15f2d3b138d",
   "metadata": {},
   "source": [
    "### Sample `.env` file\n",
    "\n",
    "The `.env` file stores sensitive information securely. Below is an example of how your `.env` file should look. You will need to create this file manually in your project folder or use the following code to automatically generate it.\n",
    "\n",
    "```plaintext\n",
    "SMTP_ADDRESS=\"smtp.example.com\"\n",
    "EMAIL_ADDRESS=\"your_email@example.com\"\n",
    "EMAIL_PASSWORD=\"your_app_specific_password\"\n",
    "TARGET_PRICE=100"
   ]
  },
  {
   "cell_type": "markdown",
   "id": "6aceb197-4b3c-4c27-9c0e-328c273cef01",
   "metadata": {},
   "source": [
    "### Web Scraping and Email Alert System\n",
    "\n",
    "The following code implements the price tracker and email alert system. The script performs the following tasks:\n",
    "\n",
    "1. **Fetch Product Page**: Using the `requests` library, it sends a GET request to the Amazon product page.\n",
    "2. **Extract Product Data**: It uses `BeautifulSoup` to scrape the product title and price from the page content.\n",
    "3. **Price Comparison**: The current product price is compared to a target price (stored in the `.env` file).\n",
    "4. **Send Email Alert**: If the price is below the target, it sends an email alert using the `smtplib` library."
   ]
  },
  {
   "cell_type": "markdown",
   "id": "6a2371cc-0fa4-40af-b330-46294c6f93ef",
   "metadata": {},
   "source": [
    "### Load Environment Variables and Set up Logging"
   ]
  },
  {
   "cell_type": "code",
   "execution_count": null,
   "id": "3637d63f-1ea1-4aba-94e1-b0e8694ca766",
   "metadata": {},
   "outputs": [],
   "source": [
    "# Load environment variables from .env file\n",
    "load_dotenv()\n",
    "\n",
    "# Set up logging\n",
    "logging.basicConfig(level=logging.INFO)"
   ]
  },
  {
   "cell_type": "markdown",
   "id": "6b40a7d5-21a9-4988-9241-2b853245dce2",
   "metadata": {},
   "source": [
    "- **load_dotenv()** loads environment variables from the .env file, which contains sensitive data like email credentials and the target price.\n",
    "- **logging.basicConfig(level=logging.INFO)** sets up logging so that the program will log information (like product titles and prices) and errors during the execution."
   ]
  },
  {
   "cell_type": "markdown",
   "id": "96bc17d9-4aa5-4eed-9563-e0cee3ab9d40",
   "metadata": {},
   "source": [
    "### Define Amazon Product URL and Headers"
   ]
  },
  {
   "cell_type": "code",
   "execution_count": null,
   "id": "dd4d7246-8cd7-4cad-93f6-b352265213dd",
   "metadata": {},
   "outputs": [],
   "source": [
    "# URL of the Amazon product (hardcoded for this exercise)\n",
    "url = \"https://www.amazon.com/dp/B075CYMYK6?psc=1&ref_=cm_sw_r_cp_ud_ct_FM9M699VKHTT47YD50Q6\"\n",
    "\n",
    "# Set up headers to mimic a browser request\n",
    "headers = {\n",
    "    \"User-Agent\": \"Mozilla/5.0 (Macintosh; Intel Mac OS X 10_15_5) AppleWebKit/537.36 (KHTML, like Gecko) Chrome/84.0.4147.125 Safari/537.36\",\n",
    "    \"Accept-Language\": \"en-GB,en-US;q=0.9,en;q=0.8\"\n",
    "}"
   ]
  },
  {
   "cell_type": "markdown",
   "id": "d9ca50e0-52e3-4b63-a4a6-96ef1b3bd7be",
   "metadata": {},
   "source": [
    "- The URL is hardcoded for the Amazon product we are tracking (since this is an exercise).\n",
    "- The headers dictionary mimics a request from a web browser, ensuring the request is not blocked by the website’s security measures."
   ]
  },
  {
   "cell_type": "markdown",
   "id": "fe3bbc5f-ae68-441b-a4b3-3db7fa363d6c",
   "metadata": {},
   "source": [
    "### Fetch the Amazon Product Page"
   ]
  },
  {
   "cell_type": "code",
   "execution_count": null,
   "id": "88e274f3-2768-4859-9d9e-f5636471de60",
   "metadata": {},
   "outputs": [],
   "source": [
    "# Fetch the Amazon page\n",
    "try:\n",
    "    response = requests.get(url, headers=headers)\n",
    "    response.raise_for_status()  # Raise an error for bad responses\n",
    "except requests.exceptions.RequestException as e:\n",
    "    logging.error(f\"Error fetching the page: {e}\")\n",
    "    exit()"
   ]
  },
  {
   "cell_type": "markdown",
   "id": "10e09e52-2148-4445-a2fb-c751f6e438fa",
   "metadata": {},
   "source": [
    "- This code sends an HTTP request to fetch the content of the Amazon product page using the requests library.\n",
    "- **raise_for_status()** checks if there were any issues with the request (like a 404 or 500 error). If there is an issue, it raises an exception, which we handle in the except block."
   ]
  },
  {
   "cell_type": "markdown",
   "id": "d48008a1-3097-4321-92ff-a21210ebe71c",
   "metadata": {},
   "source": [
    "### Parse the Product Information Using BeautifulSoup"
   ]
  },
  {
   "cell_type": "code",
   "execution_count": null,
   "id": "e5ecfdc0-82a1-41ce-9a2c-4f7b5e6eaeb4",
   "metadata": {},
   "outputs": [],
   "source": [
    "# Parse the page content using BeautifulSoup\n",
    "soup = BeautifulSoup(response.content, \"html.parser\")\n",
    "\n",
    "# Try to extract product title and price\n",
    "try:\n",
    "    # Fetching the price using the appropriate class\n",
    "    price_text = soup.find(\"span\", class_=\"a-offscreen\").get_text()\n",
    "    price_match = re.search(r'\\$([\\d,\\.]+)', price_text)\n",
    "    \n",
    "    if price_match:\n",
    "        price_without_currency = price_match.group(1).replace(',', '')\n",
    "        price_as_float = float(price_without_currency)\n",
    "    else:\n",
    "        logging.error(\"Price not found or not in the expected format.\")\n",
    "        exit()\n",
    "\n",
    "    title = soup.find(id=\"productTitle\").get_text().strip()\n",
    "except AttributeError as e:\n",
    "    logging.error(f\"Error extracting data: {e}\")\n",
    "    exit()"
   ]
  },
  {
   "cell_type": "markdown",
   "id": "9eac7fa0-7cc0-4f7c-8ca4-959339139665",
   "metadata": {},
   "source": [
    "- BeautifulSoup is used to parse the HTML content of the product page.\n",
    "- We extract the product price by finding the element with the class a-offscreen (which holds the price) and use a regular expression to clean up the price format.\n",
    "- The product title is extracted from the element with id=\"productTitle\".\n",
    "- We handle any AttributeError in case the structure of the page changes or if the elements we're looking for don’t exist."
   ]
  },
  {
   "cell_type": "markdown",
   "id": "2c54ee73-5a4f-4472-9a32-de8cabe85c15",
   "metadata": {},
   "source": [
    "### Compare Price with Target and Send Email"
   ]
  },
  {
   "cell_type": "code",
   "execution_count": null,
   "id": "6c2bb05e-e79c-4394-8368-6af1fd007512",
   "metadata": {},
   "outputs": [],
   "source": [
    "logging.info(f\"Title: {title}\")\n",
    "logging.info(f\"Price: ${price_as_float}\")\n",
    "\n",
    "# Fetch the buy price from the .env file\n",
    "BUY_PRICE = float(os.getenv(\"TARGET_PRICE\"))\n",
    "\n",
    "# If the product price is below the set buy price, send an email\n",
    "if price_as_float < BUY_PRICE:\n",
    "    message = f\"{title} is on sale for ${price_as_float}!\"\n",
    "    \n",
    "    try:\n",
    "        # Setup email connection\n",
    "        smtp_address = os.getenv(\"SMTP_ADDRESS\")\n",
    "        email_address = os.getenv(\"EMAIL_ADDRESS\")\n",
    "        email_password = os.getenv(\"EMAIL_PASSWORD\")\n",
    "\n",
    "        if not smtp_address or not email_address or not email_password:\n",
    "            logging.error(\"Email environment variables are not set properly.\")\n",
    "            exit()\n",
    "\n",
    "        # Send the email using smtplib\n",
    "        with smtplib.SMTP(smtp_address, 587) as connection:\n",
    "            connection.starttls()  # Secure the connection\n",
    "            connection.login(email_address, email_password)\n",
    "            connection.sendmail(\n",
    "                from_addr=email_address,\n",
    "                to_addrs=email_address,\n",
    "                msg=f\"Subject:Amazon Price Alert!\\n\\n{message}\\n{url}\".encode(\"utf-8\")\n",
    "            )\n",
    "        logging.info(\"Email sent successfully.\")\n",
    "    except smtplib.SMTPException as e:\n",
    "        logging.error(f\"Error sending email: {e}\")\n",
    "else:\n",
    "    logging.info(f\"Price is still higher than the target price of ${BUY_PRICE}. Current price: ${price_as_float}.\")"
   ]
  },
  {
   "cell_type": "markdown",
   "id": "dfdeea97-a5ec-4e91-845e-144771899779",
   "metadata": {},
   "source": [
    "- The product title and price are logged for reference.\n",
    "- The target price (BUY_PRICE) is fetched from the .env file. If the actual price (price_as_float) is below this threshold, an email alert is triggered.\n",
    "- smtplib is used to send an email via an SMTP server (in this case, Gmail). If the credentials or the SMTP setup are incorrect, an error is logged.\n",
    "- If the price is higher than the target price, it simply logs that no email was sent."
   ]
  },
  {
   "cell_type": "markdown",
   "id": "89c6cfba-8e53-42e1-910a-2e158ad36cee",
   "metadata": {},
   "source": [
    "## Conclusion\n",
    "\n",
    "This price tracking and email alert system automates the process of monitoring product prices on Amazon, making it easier to track price drops and receive notifications in real-time. It offers a practical way to ensure you're always aware of the best deals without having to manually check the prices yourself.\n",
    "\n",
    "In this exercise, I gained valuable experience in:\n",
    "\n",
    "- Web scraping with requests and BeautifulSoup to extract data from web pages.\n",
    "- Handling exceptions and errors, which are common in real-world web scraping scenarios.\n",
    "- Automating email notifications using the smtplib library.\n",
    "- Managing sensitive information securely using the .env file and dotenv package.\n",
    "\n",
    "For the sake of simplicity, I hardcoded the Amazon product URL since this is an exercise. However, the script can be easily modified to accept dynamic URLs, making it more versatile. By adjusting the TARGET_PRICE and URL, the system can be customized to track any product on Amazon.\n",
    "\n",
    "This project could be further developed by adding features like price history logging, tracking multiple products at once, or extending the scraper to other online retailers, making it a strong foundation for more advanced applications."
   ]
  }
 ],
 "metadata": {
  "kernelspec": {
   "display_name": "Python 3 (ipykernel)",
   "language": "python",
   "name": "python3"
  },
  "language_info": {
   "codemirror_mode": {
    "name": "ipython",
    "version": 3
   },
   "file_extension": ".py",
   "mimetype": "text/x-python",
   "name": "python",
   "nbconvert_exporter": "python",
   "pygments_lexer": "ipython3",
   "version": "3.12.4"
  }
 },
 "nbformat": 4,
 "nbformat_minor": 5
}
