{
 "cells": [
  {
   "cell_type": "markdown",
   "id": "2b609e6a-df83-41a3-8f5d-6dd2033ce206",
   "metadata": {},
   "source": [
    "# Three Broomsticks Potion Shop"
   ]
  },
  {
   "cell_type": "markdown",
   "id": "d8c7dc10-fa87-4dc2-a4c2-e2b384c9e088",
   "metadata": {},
   "source": [
    "On Day 16, the task was to use the coffee machine program from the day before and change it to make it operate along the guidelines of OOP.\n",
    "\n",
    "The program's requirements:\n",
    "\n",
    "- Customers can choose from a selection of magical drinks\n",
    "- pay for them using wizarding currency\n",
    "- and see the status of the machine's resources.\n",
    "\n",
    "The main classes were stipulated by the course. \n",
    "\n",
    "I added the Harry-Potter-Theme for fun, not realizing how long it would actually take me to figure out the currency conversion...this literally took me hours."
   ]
  },
  {
   "cell_type": "markdown",
   "id": "0d8e4e8e",
   "metadata": {},
   "source": [
    "Idea 1\n",
    "- Set up all the necessary components like the menu, money machine, and coffee maker, each with their initial resources according to the requirements of the task.\n",
    "\n",
    "Solution 1\n",
    "- I created instances of the Menu, MoneyMachine, and CoffeeMaker classes. \n",
    "- The CoffeeMaker class requires initial quantities for various magical ingredients, which I defined in a dictionary. \n",
    "- This setup ensures all the components are ready to interact with each other seamlessly.\n",
    "\n",
    "Idea 2\n",
    "- Keep the user engaged and manage the flow of interaction for an overall pleasant experience. \n",
    "\n",
    "Solution 2\n",
    "- I needed to display the menu, handle user choices, and process their actions in a loop until they decide to leave.\n",
    "- I implemented an infinite loop that continuously displays the menu, prompts the user for their choice, and processes their selection.\n",
    "- If the user decides to exit by entering 0, the loop breaks, and a farewell message is displayed.\n",
    "\n",
    "Idea 3\n",
    "- Once the user selects a drink, the payment process needs to be handled smoothly. \n",
    "- Validate the user’s choice\n",
    "- Process the payment\n",
    "- Prepare the drink if the payment is successful.\n",
    "\n",
    "Solution 3\n",
    "- I use a try-except block to handle any invalid selections. \n",
    "- This ensures that all necessary steps were handled correctly and user feedback was provided at each step.\n",
    "\n",
    "Idea 4\n",
    "- Give users the option to see the current status of the coffee maker, including ingredient levels and total profit.\n",
    "\n",
    "Solution 4\n",
    "- After preparing the drink, the user is prompted to see if he want to view the machine's status.\n",
    "- If the user agrees, the status is displayed using the display_status method of the CoffeeMaker class. \n",
    "\n",
    "Idea 5\n",
    "- Allow users to either continue ordering drinks or exit the program.\n",
    "\n",
    "Solution 5\n",
    "- After displaying the status, the user are asked if he want to order more drinks. \n",
    "- If he chooses to continue, the screen is cleared for a fresh start. \n",
    "- If he chooses to exit, a farewell message is displayed, and the loop is broken."
   ]
  },
  {
   "cell_type": "markdown",
   "id": "4da59dee-0230-4d0e-9b00-9a0cc7ea233d",
   "metadata": {},
   "source": [
    "## Importing Required Libraries\n",
    "\n",
    "Essential libraries that the program will use:"
   ]
  },
  {
   "cell_type": "code",
   "execution_count": 1,
   "id": "86c07014-d68e-4474-ac91-a0e60853d476",
   "metadata": {},
   "outputs": [],
   "source": [
    "import os\n",
    "import time"
   ]
  },
  {
   "cell_type": "markdown",
   "id": "525b6cdd",
   "metadata": {},
   "source": [
    "- os: This library provides functions to interact with the operating system. This will clear the screen when needed.\n",
    "- time: This allows to introduce delays in the program. This will simulate the time it takes to prepare magical drinks."
   ]
  },
  {
   "cell_type": "code",
   "execution_count": 2,
   "id": "5af47190",
   "metadata": {},
   "outputs": [],
   "source": [
    "from prettytable import PrettyTable"
   ]
  },
  {
   "cell_type": "markdown",
   "id": "b4798c7f",
   "metadata": {},
   "source": [
    "- PrettyTable: This helps create neatly formatted tables. I'll use it to display the menu and the status of the magical coffee maker."
   ]
  },
  {
   "cell_type": "markdown",
   "id": "4d6226df-8369-40d5-b16f-c455e88e72bc",
   "metadata": {},
   "source": [
    "## Drink Class\n",
    "\n",
    "The Drink class represents the magical beverage offered at the Three Broomsticks. It encapsulates all the information about a specific drink, including its ingredients, cost, and units of measurement."
   ]
  },
  {
   "cell_type": "code",
   "execution_count": 3,
   "id": "ecd0074a-255e-4ed4-9fdc-c4ba2ed4bada",
   "metadata": {},
   "outputs": [],
   "source": [
    "class Drink:\n",
    "    def __init__(self, name, ingredients, cost_knuts, unit):\n",
    "        self.name = name\n",
    "        self.ingredients = ingredients\n",
    "        self.cost_knuts = cost_knuts\n",
    "        self.unit = unit"
   ]
  },
  {
   "cell_type": "markdown",
   "id": "531cf064-c2e4-4f8d-b44d-d91f6933ba05",
   "metadata": {},
   "source": [
    "- __init__ method: Initializes a new instance of Drink with the provided parameters.\n",
    "- name: Sets the name of the drink.\n",
    "- ingredients: Sets the dictionary of ingredients required for the drink.\n",
    "- cost_knuts: Sets the cost of the drink in knuts.\n",
    "- unit: Sets the units of measurement for each ingredient."
   ]
  },
  {
   "cell_type": "markdown",
   "id": "e63b5a8d-8f8b-426a-933d-324a4701728f",
   "metadata": {},
   "source": [
    "## Menu Class\n",
    "\n",
    "The Menu class manages the collection of drinks available at the Three Broomsticks. It allows users to retrieve specific drinks and displays the menu in a formatted manner."
   ]
  },
  {
   "cell_type": "code",
   "execution_count": 4,
   "id": "91bd2a21-07fa-4529-8d92-d331f95b22d9",
   "metadata": {},
   "outputs": [],
   "source": [
    "class Menu:\n",
    "    def __init__(self):\n",
    "        self.drinks = {\n",
    "            \"butterbrew\": Drink(\n",
    "                \"Butterbrew\",\n",
    "                {\"essence_of_firewhiskey\": 50, \"ground_dragon_claw\": 18},\n",
    "                105,\n",
    "                {\"essence_of_firewhiskey\": \"ml\", \"ground_dragon_claw\": \"g\"}\n",
    "            ),\n",
    "            \"pumpkin_latte\": Drink(\n",
    "                \"Pumpkin Latte\",\n",
    "                {\"moonlight_pumpkin_extract\": 200, \"frothed_unicorn_milk\": 150, \"crushed_pixie_wings\": 24},\n",
    "                174,\n",
    "                {\"moonlight_pumpkin_extract\": \"units\", \"frothed_unicorn_milk\": \"units\", \"crushed_pixie_wings\": \"units\"}\n",
    "            ),\n",
    "            \"dragonfire_cappuccino\": Drink(\n",
    "                \"Dragonfire Cappuccino\",\n",
    "                {\"liquid_inferno_essence\": 250, \"dragon_breath_froth\": 100, \"powdered_phoenix_feather\": 24},\n",
    "                203,\n",
    "                {\"liquid_inferno_essence\": \"ml\", \"dragon_breath_froth\": \"ml\", \"powdered_phoenix_feather\": \"g\"}\n",
    "            )\n",
    "        }"
   ]
  },
  {
   "cell_type": "markdown",
   "id": "e6773ec5-6f2a-48d4-b47a-75f0a21407c7",
   "metadata": {},
   "source": [
    "- Initializes self.drinks as a dictionary containing three instances of Drink class representing different beverages offered at the Three Broomsticks."
   ]
  },
  {
   "cell_type": "code",
   "execution_count": 5,
   "id": "7c2d0d11-e4b3-467e-b815-aab68717099f",
   "metadata": {},
   "outputs": [],
   "source": [
    "    def get_drink(self, name):\n",
    "        return self.drinks.get(name)"
   ]
  },
  {
   "cell_type": "markdown",
   "id": "38b027b9-258f-4ad6-86b1-1845227dbdd3",
   "metadata": {},
   "source": [
    "- Retrieves a specific drink from self.drinks dictionary based on its name."
   ]
  },
  {
   "cell_type": "code",
   "execution_count": 6,
   "id": "b99021fc-8374-4ff5-9501-f78f6abc66f4",
   "metadata": {},
   "outputs": [],
   "source": [
    "    def display_menu(self):\n",
    "        table = PrettyTable()\n",
    "        table.field_names = [\"#\", \"Drink\", \"Cost (Galleons)\", \"Cost (Sickles)\", \"Cost (Knuts)\"]\n",
    "        for idx, drink in enumerate(self.drinks.values(), start=1):\n",
    "            cost_galleons = drink.cost_knuts // (17 * 29)\n",
    "            cost_sickles = (drink.cost_knuts % (17 * 29)) // 29\n",
    "            cost_knuts = drink.cost_knuts % 29\n",
    "            table.add_row([idx, drink.name, cost_galleons, cost_sickles, cost_knuts])\n",
    "            print(\"\\nWe are grateful you have chosen our humble establishment! 🍺🪄\")\n",
    "            print(\"Behold our magical menu:\")\n",
    "            print(table)"
   ]
  },
  {
   "cell_type": "markdown",
   "id": "7f27e1a7-a43e-423e-abf0-242443703b51",
   "metadata": {},
   "source": [
    "- Creates a PrettyTable instance to display the menu in a tabular format.\n",
    "- Iterates through self.drinks to populate the table with drink names and their costs converted into Galleons, Sickles, and Knuts.\n",
    "- Prints the formatted menu with a welcoming message."
   ]
  },
  {
   "cell_type": "markdown",
   "id": "f2829791-361f-497f-98dc-16a4a7883ae5",
   "metadata": {},
   "source": [
    "## CoffeeMaker Class\n",
    "\n",
    "The CoffeeMaker class simulates the machinery responsible for preparing magical drinks at the Three Broomsticks. It manages the resources required for drink preparation, handles ingredient refills, and displays machine status."
   ]
  },
  {
   "cell_type": "code",
   "execution_count": 7,
   "id": "cbb2a0cb-88bc-4b62-8007-fd8da6de5e3c",
   "metadata": {},
   "outputs": [],
   "source": [
    "class CoffeeMaker:\n",
    "    def __init__(self, initial_resources):\n",
    "        self.resources = initial_resources\n",
    "        self.total_profit_knuts = 0"
   ]
  },
  {
   "cell_type": "markdown",
   "id": "d7697a72-2c94-45a4-bf9f-7c68c4df1dd2",
   "metadata": {},
   "source": [
    "- Initializes self.resources with the initial quantities of magical ingredients required for drink preparation.\n",
    "- Sets self.total_profit_knuts to track total profits earned from drink sales."
   ]
  },
  {
   "cell_type": "code",
   "execution_count": 8,
   "id": "4b069901-75c4-4e48-867f-2cbe029a7f91",
   "metadata": {},
   "outputs": [],
   "source": [
    "    def make_drink(self, drink):\n",
    "        print(f\"\\nOne {drink.name} coming right up!\")\n",
    "        time.sleep(2)  # Simulate preparation time\n",
    "\n",
    "        if all(self.resources[item] >= quantity for item, quantity in drink.ingredients.items()):\n",
    "            for item, quantity in drink.ingredients.items():\n",
    "                self.resources[item] -= quantity\n",
    "            print(f\"Here is your {drink.name}! Enjoy your magical concoction. 🌟\")\n",
    "            self.total_profit_knuts += drink.cost_knuts\n",
    "            return drink.cost_knuts\n",
    "        else:\n",
    "            print(\"Alas! We're fresh out of ingredients for that brew.\")\n",
    "            self.calculate_min_refill(drink)\n",
    "            refill_choice = input(\"Would you like to refill any of the above ingredients? (yes/no): \").strip().lower()\n",
    "            if refill_choice == \"yes\":\n",
    "                self.refill_resources(drink)\n",
    "                return self.make_drink(drink)\n",
    "            else:\n",
    "                print(\"Let's whisk you back to the menu, shall we?\")\n",
    "                return 0"
   ]
  },
  {
   "cell_type": "markdown",
   "id": "b239bf1c-fc10-4c3e-bc00-836d24474428",
   "metadata": {},
   "source": [
    "- Simulates the process of making a drink:\n",
    "    - Prints a message indicating the drink is being prepared.\n",
    "    - Checks if there are enough resources (ingredients) available.\n",
    "    - If sufficient resources are available, deducts them, prints a success message, updates self.total_profit_knuts, and returns the cost of the drink.\n",
    "    - If resources are insufficient, prompts for ingredient refills."
   ]
  },
  {
   "cell_type": "code",
   "execution_count": 9,
   "id": "314e2e6f-1595-4223-855c-831c5957d49e",
   "metadata": {},
   "outputs": [],
   "source": [
    "    def calculate_min_refill(self, drink):\n",
    "        table = PrettyTable()\n",
    "        table.field_names = [\"Ingredient\", \"Required Amount\", \"Current Amount\", \"Unit\"]\n",
    "        for item, quantity in drink.ingredients.items():\n",
    "            if self.resources[item] < quantity:\n",
    "                refill_amount = quantity - self.resources[item]\n",
    "                table.add_row([item.replace('_', ' '), refill_amount, self.resources[item], drink.unit[item]])\n",
    "        print(\"\\nHmm... I sense a need for replenishment:\")\n",
    "        print(table)"
   ]
  },
  {
   "cell_type": "markdown",
   "id": "312825ed-881b-47eb-8be0-1d2902c5cd23",
   "metadata": {},
   "source": [
    "- Determines which ingredients are needed in insufficient quantities for a specific drink and displays them using PrettyTable."
   ]
  },
  {
   "cell_type": "code",
   "execution_count": 10,
   "id": "72f4f159-ae23-4050-9aa5-2cc4b59f8818",
   "metadata": {},
   "outputs": [],
   "source": [
    "    def refill_resources(self, drink):\n",
    "        print(\"\\nRefilling resources...\")\n",
    "        for item, quantity in drink.ingredients.items():\n",
    "            if self.resources[item] < quantity:\n",
    "                refill_amount = self.validate_integer_input(f\"Enter the amount to refill {item.replace('_', ' ')} ({drink.unit[item]}): \")\n",
    "                self.resources[item] += refill_amount\n",
    "        print(\"Resources have been replenished. Onward with the magic!\")"
   ]
  },
  {
   "cell_type": "markdown",
   "id": "ecd50441-9898-4205-8f05-d155333e7aee",
   "metadata": {},
   "source": [
    "- Refills insufficient ingredients based on user input. \n",
    "- Prompts the user to enter the amount to refill for each ingredient."
   ]
  },
  {
   "cell_type": "code",
   "execution_count": 11,
   "id": "dcd00616-82d6-49f3-ab44-ee6e6452905a",
   "metadata": {},
   "outputs": [],
   "source": [
    "    def display_status(self):\n",
    "        total_galleons = self.total_profit_knuts // (17 * 29)\n",
    "        total_sickles = (self.total_profit_knuts % (17 * 29)) // 29\n",
    "        total_knuts = self.total_profit_knuts % 29\n",
    "\n",
    "        table = PrettyTable()\n",
    "        table.field_names = [\"Ingredient\", \"Quantity\"]\n",
    "        for item, quantity in self.resources.items():\n",
    "            table.add_row([item.replace('_', ' '), quantity])\n",
    "        print(\"\\nBehold! The current state of our magical apparatus:\")\n",
    "        print(table)\n",
    "        print(f\"Total Profit: {total_galleons} Galleons, {total_sickles} Sickles, and {total_knuts} Knuts\")"
   ]
  },
  {
   "cell_type": "markdown",
   "id": "9e50fa3a-6dbe-4875-9d5f-d71490cb634b",
   "metadata": {},
   "source": [
    "- Displays the current state of self.resources (ingredients) and self.total_profit_knuts using PrettyTable."
   ]
  },
  {
   "cell_type": "code",
   "execution_count": 12,
   "id": "4c6856b6-fef5-46de-871e-0292e2b557e9",
   "metadata": {},
   "outputs": [],
   "source": [
    "    def validate_integer_input(self, prompt):\n",
    "        while True:\n",
    "            try:\n",
    "                user_input = int(input(prompt))\n",
    "                if user_input < 0:\n",
    "                    raise ValueError(\"Input must be a positive magical number.\")\n",
    "                return user_input\n",
    "            except ValueError as e:\n",
    "                print(f\"Oops! {e}. Please enter a valid positive magical number.\")"
   ]
  },
  {
   "cell_type": "markdown",
   "id": "ab7372f5-61d3-4c1f-b9c0-e9ac96e6d5fc",
   "metadata": {},
   "source": [
    "- Ensures user input for ingredient refills is a valid positive integer using a while loop and try-except block."
   ]
  },
  {
   "cell_type": "markdown",
   "id": "d27d226d-d917-4355-ad3c-3d31de2da6c1",
   "metadata": {},
   "source": [
    "## MoneyMachine Class\n",
    "\n",
    "The MoneyMachine class handles payment processing for drinks purchased at the Three Broomsticks. It validates user input for payment amounts and calculates change to return."
   ]
  },
  {
   "cell_type": "code",
   "execution_count": 13,
   "id": "841c5adb-f2b4-4a39-996d-3ab191e7a912",
   "metadata": {
    "editable": true,
    "slideshow": {
     "slide_type": ""
    },
    "tags": []
   },
   "outputs": [],
   "source": [
    "class MoneyMachine:\n",
    "    GALLEON_TO_SICKLE = 17\n",
    "    SICKLE_TO_KNUT = 29\n",
    "\n",
    "    def __init__(self):\n",
    "        self.total_profit_knuts = 0"
   ]
  },
  {
   "cell_type": "markdown",
   "id": "80bec21b-1165-4dae-b03a-beadc411cf23",
   "metadata": {},
   "source": [
    "Constants (GALLEON_TO_SICKLE and SICKLE_TO_KNUT):\n",
    "- Conversion rates used throughout the class to convert Galleons to Sickles and Sickles to Knuts.\n",
    "\n",
    "__init__ method:\n",
    "- Initializes self.total_profit_knuts to track total profits earned from drink sales."
   ]
  },
  {
   "cell_type": "code",
   "execution_count": 14,
   "id": "19e4d77c-87a4-4e14-8496-12609228d33c",
   "metadata": {},
   "outputs": [],
   "source": [
    "    def validate_integer_input(self, prompt):\n",
    "        while True:\n",
    "            try:\n",
    "                user_input = int(input(prompt))\n",
    "                if user_input < 0:\n",
    "                    raise ValueError(\"Input must be a positive magical number.\")\n",
    "                return user_input\n",
    "            except ValueError as e:\n",
    "                print(f\"Oops! {e}. Please enter a valid positive magical number.\")"
   ]
  },
  {
   "cell_type": "markdown",
   "id": "87a59c13-dfaa-4f6c-9391-8808d85c0956",
   "metadata": {},
   "source": [
    "- Ensures user input for payments (Galleons, Sickles, Knuts) is a valid positive integer using a while loop and try-except block."
   ]
  },
  {
   "cell_type": "code",
   "execution_count": 15,
   "id": "48a1f9c9-7915-4f28-8d77-c86de1bbec06",
   "metadata": {},
   "outputs": [],
   "source": [
    "    def process_payment(self, cost_knuts):\n",
    "        print(f\"\\nThe cost? A mere {cost_knuts // (self.GALLEON_TO_SICKLE * self.SICKLE_TO_KNUT)} Galleons, {(cost_knuts % (self.GALLEON_TO_SICKLE * self.SICKLE_TO_KNUT)) \\\n",
    "        // self.SICKLE_TO_KNUT} Sickles, and {cost_knuts % self.SICKLE_TO_KNUT} Knuts, good Sir or Madam.\")\n",
    "        galleons = self.validate_integer_input(\"Enter the Galleons: \")\n",
    "        sickles = self.validate_integer_input(\"Enter the Sickles: \")\n",
    "        knuts = self.validate_integer_input(\"Enter the Knuts: \")\n",
    "\n",
    "        total_paid_knuts = galleons * self.GALLEON_TO_SICKLE * self.SICKLE_TO_KNUT + sickles * self.SICKLE_TO_KNUT + knuts\n",
    "        change = total_paid_knuts - cost_knuts\n",
    "\n",
    "        if change < 0:\n",
    "            print(\"Insufficient funds, you say? Please, provide the exact amount.\")\n",
    "            return self.process_payment(cost_knuts)\n",
    "        else:\n",
    "            change_galleons = change // (self.GALLEON_TO_SICKLE * self.SICKLE_TO_KNUT)\n",
    "            change_sickles = (change % (self.GALLEON_TO_SICKLE * self.SICKLE_TO_KNUT)) // self.SICKLE_TO_KNUT\n",
    "            change_knuts = change % self.SICKLE_TO_KNUT\n",
    "            print(f\"Your generosity knows no bounds! Change to return: {change_galleons} Galleons, {change_sickles} Sickles, and {change_knuts} Knuts.\")\n",
    "            time.sleep(2)\n",
    "\n",
    "            return change"
   ]
  },
  {
   "cell_type": "markdown",
   "id": "6acee4a5-d68e-46f4-877a-7b55d70802e4",
   "metadata": {},
   "source": [
    "- Prints the cost of the drink in Galleons, Sickles, and Knuts.\n",
    "- Calls validate_integer_input to get user input for Galleons, Sickles, and Knuts.\n",
    "- Calculates total payment in knuts, verifies if the provided amount covers the drink's cost, calculates change to return, and prints the change.\n",
    "- Uses time.sleep(2) to simulate a short delay."
   ]
  },
  {
   "cell_type": "markdown",
   "id": "09169f3a-c633-4620-8c65-0545f2fc1868",
   "metadata": {},
   "source": [
    "## Main Program\n",
    "\n",
    "The main program ties everything together. It creates instances of `Menu`, `MoneyMachine`, and `CoffeeMaker`, and enters a loop where it displays the menu, processes user input, handles payments, and prepares the selected drink. The user can choose to exit the program at any time.\n"
   ]
  },
  {
   "cell_type": "code",
   "execution_count": 16,
   "id": "091b2a01-9aa7-4b5e-98f1-2fbc222f25f7",
   "metadata": {},
   "outputs": [
    {
     "name": "stdout",
     "output_type": "stream",
     "text": [
      "Welcome, welcome, to the illustrious Three Broomsticks! 🍺🪄\n",
      "\n",
      "We are grateful you have chosen our humble establishment! 🍺🪄\n",
      "Behold our magical menu:\n",
      "+---+-----------------------+-----------------+----------------+--------------+\n",
      "| # |         Drink         | Cost (Galleons) | Cost (Sickles) | Cost (Knuts) |\n",
      "+---+-----------------------+-----------------+----------------+--------------+\n",
      "| 1 |       Butterbrew      |        0        |       3        |      18      |\n",
      "| 2 |     Pumpkin Latte     |        0        |       6        |      0       |\n",
      "| 3 | Dragonfire Cappuccino |        0        |       7        |      0       |\n",
      "+---+-----------------------+-----------------+----------------+--------------+\n",
      "\n",
      "Fare thee well, kind traveler. Until our paths converge once more! ✨\n"
     ]
    }
   ],
   "source": [
    "from menu import Menu \n",
    "from money_machine import MoneyMachine \n",
    "from coffee_maker import CoffeeMaker \n",
    "\n",
    "def main():\n",
    "    menu = Menu()\n",
    "    money_machine = MoneyMachine()\n",
    "    coffee_maker = CoffeeMaker({\n",
    "        \"essence_of_firewhiskey\": 300,\n",
    "        \"ground_dragon_claw\": 200,\n",
    "        \"moonlight_pumpkin_extract\": 100,\n",
    "        \"frothed_unicorn_milk\": 150,\n",
    "        \"crushed_pixie_wings\": 100,\n",
    "        \"liquid_inferno_essence\": 300,\n",
    "        \"dragon_breath_froth\": 200,\n",
    "        \"powdered_phoenix_feather\": 100,\n",
    "    })\n",
    "\n",
    "    print(\"Welcome, welcome, to the illustrious Three Broomsticks! 🍺🪄\") \n",
    "    \n",
    "    while True: \n",
    "        menu.display_menu() \n",
    "        choice = money_machine.validate_integer_input(\"\\nPlease select from amongst our phenomenal potions (1-3) or enter 0 to depart: \")  \n",
    "\n",
    "        if choice == 0:\n",
    "            print(\"\\nFare thee well, kind traveler. Until our paths converge once more! ✨\")\n",
    "            break\n",
    "\n",
    "        try: \n",
    "            drink_name = list(menu.drinks.keys())[choice - 1]\n",
    "            drink = menu.get_drink(drink_name) \n",
    "            change = money_machine.process_payment(drink.cost_knuts) \n",
    "            if change >= 0: \n",
    "                coffee_maker.make_drink(drink)  \n",
    "                show_status = input(\"\\nWould you like to witness the grandeur of our machine? (yes/no): \").strip().lower() \n",
    "                if show_status == \"yes\": \n",
    "                    coffee_maker.display_status()\n",
    "                return_menu = input(\"\\nDo you yearn for more magical experiences? (yes/no): \").strip().lower() \n",
    "                if return_menu != \"yes\":  \n",
    "                    print(\"\\nThank you for gracing us with your presence. May your days be filled with magic and wonder! ✨\")\n",
    "                    break\n",
    "                else:\n",
    "                    os.system('cls' if os.name == 'nt' else 'clear')  \n",
    "            else:\n",
    "                print(\"\\nPray, select again. The world of magic awaits!\")\n",
    "        \n",
    "        except IndexError:\n",
    "            print(\"\\nYour selection is but a figment of your imagination. Please select a valid option.\") \n",
    "        except KeyboardInterrupt:\n",
    "            print(\"\\nAh, a swift exit! Until our paths converge once more. Farewell!\") \n",
    "            break\n",
    "\n",
    "if __name__ == \"__main__\":\n",
    "    main()"
   ]
  },
  {
   "cell_type": "markdown",
   "id": "2334db9c-9b24-4b21-923b-b81c57af9f20",
   "metadata": {},
   "source": [
    "## Conclusion\n",
    "\n",
    "Making sure the program had a user-friendly interface was really important for me. I wanted users to easily navigate through the drink menu, see the status of their order, and understand when ingredients needed replenishing. Using tools like PrettyTable for displaying information and clearing the screen after each interaction helped in creating a clean and organized interface. "
   ]
  },
  {
   "cell_type": "markdown",
   "id": "95c350f5-2b6d-4133-bcef-7f986d2457b9",
   "metadata": {},
   "source": [
    "Handling errors and unexpected situations was a significant challenge. I needed to anticipate what could go wrong—like users entering incorrect inputs or the program encountering interruptions. Implementing error handling mechanisms to gracefully manage these scenarios and guide users back on track was essential to ensure a smooth user experience. This really used up most of my time - getting all the small details right while not destroying the overall functionality of the program was a steep learning curve."
   ]
  }
 ],
 "metadata": {
  "kernelspec": {
   "display_name": "Python 3 (ipykernel)",
   "language": "python",
   "name": "python3"
  },
  "language_info": {
   "codemirror_mode": {
    "name": "ipython",
    "version": 3
   },
   "file_extension": ".py",
   "mimetype": "text/x-python",
   "name": "python",
   "nbconvert_exporter": "python",
   "pygments_lexer": "ipython3",
   "version": "3.12.1"
  }
 },
 "nbformat": 4,
 "nbformat_minor": 5
}
