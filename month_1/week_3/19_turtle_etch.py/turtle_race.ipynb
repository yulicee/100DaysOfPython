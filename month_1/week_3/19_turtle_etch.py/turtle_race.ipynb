{
 "cells": [
  {
   "cell_type": "markdown",
   "id": "b250da14-2e2c-4476-964f-e5b8c8041636",
   "metadata": {},
   "source": [
    "# Turtle Race Betting Game\n",
    "\n",
    "On Day 19, we expanded on the Turtle Graphics module and worked on building a turtle race game with betting function.\n",
    "\n",
    "The requirements:\n",
    "- Create several turtle objects\n",
    "- Color the turtles\n",
    "- Make the turtles race against each other\n",
    "- Enable the user to playe a bet on a certain turtle\n",
    "- Give the user feedback over which turtle won the race"
   ]
  },
  {
   "cell_type": "markdown",
   "id": "d1b5ab80-7783-4903-9444-740766f48b9d",
   "metadata": {},
   "source": [
    "### Imported libraries"
   ]
  },
  {
   "cell_type": "code",
   "execution_count": 1,
   "id": "8ef16ce1-0f70-4fb9-b366-7ba12053fb64",
   "metadata": {},
   "outputs": [],
   "source": [
    "from turtle import Turtle, Screen"
   ]
  },
  {
   "cell_type": "code",
   "execution_count": 2,
   "id": "9eb61706-a954-485a-a2d7-d8ec02770753",
   "metadata": {},
   "outputs": [],
   "source": [
    "import random\n",
    "import time"
   ]
  },
  {
   "cell_type": "markdown",
   "id": "12a05ebc-b43d-41db-ba9d-dcf1b29f4b56",
   "metadata": {},
   "source": [
    "### Setting up the Game Screen"
   ]
  },
  {
   "cell_type": "code",
   "execution_count": 3,
   "id": "eada151d-79e7-4622-865f-9633bad8e9ea",
   "metadata": {},
   "outputs": [],
   "source": [
    "def setup_turtle_race():\n",
    "    screen = Screen()\n",
    "    screen.setup(width=500, height=400)\n",
    "    screen.title(\"Turtle Race Game\")\n",
    "    return screen"
   ]
  },
  {
   "cell_type": "markdown",
   "id": "8d9b4fc6-2939-452f-aa3d-c00c48f8661c",
   "metadata": {},
   "source": [
    "- Initializes a graphical window (Screen) using the Turtle graphics library.\n",
    "- Sets the dimensions of the screen to 500 pixels wide and 400 pixels tall.\n",
    "- Sets the title of the window to \"Turtle Race Game\" and returns the Screen object.\n",
    "\n",
    "Purpose: This is the first step in preparing the environment for the turtle race game, providing a graphical interface where turtles will race."
   ]
  },
  {
   "cell_type": "markdown",
   "id": "4d323482-7cd1-4eca-9368-07cec5620818",
   "metadata": {},
   "source": [
    "### Creating Turtles"
   ]
  },
  {
   "cell_type": "code",
   "execution_count": 4,
   "id": "edfabddf-cec1-41ee-a625-bd69bbb64aa6",
   "metadata": {},
   "outputs": [],
   "source": [
    "def create_turtles(colors, y_positions):\n",
    "    turtles = []\n",
    "    for i in range(len(colors)):\n",
    "        new_turtle = Turtle(shape=\"turtle\")\n",
    "        new_turtle.color(colors[i])\n",
    "        new_turtle.penup()\n",
    "        new_turtle.goto(x=-230, y=y_positions[i])\n",
    "        turtles.append(new_turtle)\n",
    "    return turtles"
   ]
  },
  {
   "cell_type": "markdown",
   "id": "d5950068-dab4-410e-9479-8e0448b1094b",
   "metadata": {},
   "source": [
    "- Creates turtle objects based on the provided colors and y_positions lists.\n",
    "- Each turtle is given a specific color from the colors list and positioned horizontally at -230 pixels (x=-230) and vertically according to its corresponding position in the y_positions list (y=y_positions[i]).\n",
    "\n",
    "Purpose: Before the race starts, turtles are instantiated and placed on the starting line. This function returns a list of Turtle objects representing each turtle ready to race."
   ]
  },
  {
   "cell_type": "markdown",
   "id": "3f2ed68a-885a-47e4-9889-d1810336f61d",
   "metadata": {},
   "source": [
    "### Displaying the Finish Line"
   ]
  },
  {
   "cell_type": "code",
   "execution_count": 5,
   "id": "0b75e9a2-20b9-4934-a0f1-0a72af4a094c",
   "metadata": {},
   "outputs": [],
   "source": [
    "def display_finish_line():\n",
    "    finish_line = Turtle()\n",
    "    finish_line.penup()\n",
    "    finish_line.goto(x=230, y=-100)\n",
    "    finish_line.pendown()\n",
    "    finish_line.goto(x=230, y=100)\n",
    "    finish_line.hideturtle()"
   ]
  },
  {
   "cell_type": "markdown",
   "id": "3fe08d95-6fdf-4798-9c09-74b41a8ca47e",
   "metadata": {},
   "source": [
    "- Uses the Turtle graphics library to draw a vertical line representing the finish line on the right side of the screen.\n",
    "- Starts by lifting the pen (penup()), moving to coordinates (230, -100) without drawing (goto(x=230, y=-100)), putting the pen down to start drawing (pendown()), moving to coordinates (230, 100) to complete the line (goto(x=230, y=100)), and finally hiding the turtle (hideturtle()).\n",
    "- \n",
    "Purpose: The finish line visually marks the endpoint of the race on the screen, providing a clear goal for the turtles to reach."
   ]
  },
  {
   "cell_type": "markdown",
   "id": "88368f19-6810-436a-85a9-768249ac1544",
   "metadata": {},
   "source": [
    "### Countdown Before Each Race"
   ]
  },
  {
   "cell_type": "code",
   "execution_count": 6,
   "id": "6a3ee4cb-1fd1-45ee-9db9-75302ed16768",
   "metadata": {},
   "outputs": [],
   "source": [
    "def countdown():\n",
    "    countdown_turtle = Turtle()\n",
    "    countdown_turtle.hideturtle()\n",
    "    countdown_turtle.penup()\n",
    "    countdown_turtle.goto(0, 0)\n",
    "    for i in range(3, 0, -1):\n",
    "        countdown_turtle.write(i, align=\"center\", font=(\"Arial\", 24, \"normal\"))\n",
    "        time.sleep(1)\n",
    "        countdown_turtle.clear()\n",
    "    countdown_turtle.write(\"Go!\", align=\"center\", font=(\"Arial\", 24, \"normal\"))\n",
    "    time.sleep(1)\n",
    "    countdown_turtle.clear()"
   ]
  },
  {
   "cell_type": "markdown",
   "id": "c52dab27-5d81-45c9-a72d-ac0831e94bf2",
   "metadata": {},
   "source": [
    "- Creates a Turtle object (countdown_turtle) that displays a countdown before each race. \n",
    "- Starts by hiding the turtle (hideturtle()), lifting the pen (penup()), and positioning the turtle at the center of the screen (goto(0, 0)). \n",
    "- Iterates backwards from 3 to 1, displaying each number (write(i, align=\"center\", font=(\"Arial\", 24, \"normal\"))), pausing for one second between each number (time.sleep(1)), and clearing the screen after each number (clear()).\n",
    "- Displays \"Go!\" in the center of the screen, pauses for one second, and clears the screen again. \n",
    "\n",
    "Purpose: The countdown builds anticipation and signals the start of the race, providing a visual and temporal cue for players."
   ]
  },
  {
   "cell_type": "markdown",
   "id": "a76dd6fe-ecd2-4bb6-96b0-9d6272269d33",
   "metadata": {},
   "source": [
    "### Simulating the Race"
   ]
  },
  {
   "cell_type": "code",
   "execution_count": 7,
   "id": "0dddc24b-2efa-4145-98fe-7245775fabb3",
   "metadata": {},
   "outputs": [],
   "source": [
    "def race(all_turtles):\n",
    "    is_race_on = True\n",
    "    while is_race_on:\n",
    "        for turtle in all_turtles:\n",
    "            if turtle.xcor() > 230:\n",
    "                winning_color = turtle.pencolor()\n",
    "                is_race_on = False\n",
    "                return winning_color\n",
    "            rand_distance = random.randint(0, 10)\n",
    "            turtle.forward(rand_distance)"
   ]
  },
  {
   "cell_type": "markdown",
   "id": "c4c43b26-1abf-4fbc-bbc7-2b2f47a10212",
   "metadata": {},
   "source": [
    "- Simulates the race among all turtles until one turtle crosses the finish line (turtle.xcor() > 230).\n",
    "- Iterates through each turtle in the all_turtles list, moving them forward by a random distance (turtle.forward(rand_distance)) between 0 and 10 pixels. Once a turtle crosses the finish line, it determines the winning turtle's color (winning_color = turtle.pencolor()) and stops the race (is_race_on = False).\n",
    "- Returns the color of the winning turtle.\n",
    "  \n",
    "Purpose: This function encapsulates the core simulation of the race, determining the outcome based on random movement and detecting when a turtle wins."
   ]
  },
  {
   "cell_type": "markdown",
   "id": "e173f35d-02a3-4bcb-ab6e-9fe9942df5b4",
   "metadata": {},
   "source": [
    "### Displaying Race Results"
   ]
  },
  {
   "cell_type": "code",
   "execution_count": 8,
   "id": "360fd1bc-c295-417e-b17f-aaa35fb6aa32",
   "metadata": {},
   "outputs": [],
   "source": [
    "def display_result(winning_color, user_bet, current_score, races_played):\n",
    "    result_turtle = Turtle()\n",
    "    result_turtle.hideturtle()\n",
    "    result_turtle.penup()\n",
    "    result_turtle.goto(0, 50)\n",
    "    if winning_color == user_bet:\n",
    "        result_turtle.write(f\"You've won! The {winning_color} turtle is the winner!\\nYour score: {current_score}\\nRaces played: {races_played}\\n\\n\", align=\"center\", font=(\"Arial\", 18, \"normal\"))\n",
    "    else:\n",
    "        result_turtle.write(f\"You've lost! The {winning_color} turtle is the winner!\\nYour score: {current_score}\\nRaces played: {races_played}\\n\\n\", align=\"center\", font=(\"Arial\", 18, \"normal\"))"
   ]
  },
  {
   "cell_type": "markdown",
   "id": "f7fc399b-3646-42d5-be10-0f8b353cbd1f",
   "metadata": {},
   "source": [
    "- Displays the result of each race based on whether the user's bet (user_bet) matches the winning turtle's color (winning_color).\n",
    "- Creates a Turtle object (result_turtle) to write the result on the screen, positioning it at coordinates (0, 50) (goto(0, 50)).\n",
    "- Displays a victory message along with their current score and number of races played if the user wins.\n",
    "- If the user loses, it displays a defeat message with the same information.\n",
    "  \n",
    "Purpose: This function communicates the outcome of the race to the player, updating them on their performance and progress in the game."
   ]
  },
  {
   "cell_type": "markdown",
   "id": "cec49ecd-8978-4435-b3f4-fce277aa8c55",
   "metadata": {},
   "source": [
    "### Main Game Logic"
   ]
  },
  {
   "cell_type": "code",
   "execution_count": 9,
   "id": "18835df5-5a84-493c-a612-d4dbf0f93427",
   "metadata": {},
   "outputs": [],
   "source": [
    "def main():\n",
    "    screen = setup_turtle_race()\n",
    "    current_score = 0\n",
    "\n",
    "    races = screen.numinput(title=\"Number of Races\", prompt=\"How many races would you like to play?\", minval=1, maxval=10)\n",
    "    if races is None:\n",
    "        screen.bye()\n",
    "        return\n",
    "\n",
    "    colors = [\"red\", \"orange\", \"yellow\", \"green\", \"blue\", \"purple\"]\n",
    "    color_options = \", \".join(colors)\n",
    "\n",
    "    replay = True\n",
    "    while replay:\n",
    "        for race_number in range(int(races)):\n",
    "            # Ask the user to bet on a turtle's color\n",
    "            user_bet = screen.textinput(title=\"Make your bet\", prompt=f\"Which turtle will win the race? Enter a color ({color_options}): \")\n",
    "            if user_bet is None:\n",
    "                replay = False\n",
    "                break\n",
    "\n",
    "            y_positions = [-70, -40, -10, 20, 50, 80]\n",
    "            all_turtles = create_turtles(colors, y_positions)\n",
    "            display_finish_line()\n",
    "            \n",
    "            if user_bet:\n",
    "                countdown()\n",
    "                winning_color = race(all_turtles)\n",
    "                if winning_color == user_bet:\n",
    "                    current_score += 1\n",
    "\n",
    "                display_result(winning_color, user_bet, current_score, race_number + 1)\n",
    "\n",
    "                if race_number + 1 < races:\n",
    "                    continue_game = screen.textinput(title=\"Next Race\", prompt=\"Do you want to continue to the next race? (yes/no)\").lower()\n",
    "                    if continue_game != \"yes\":\n",
    "                        replay = False\n",
    "                        break\n",
    "                else:\n",
    "                    replay = screen.textinput(title=\"Game Over\", prompt=f\"Game over! Your final score: {current_score}\\n\\nDo you want to replay? (yes/no)\").lower() == \"yes\"\n",
    "                    if not replay:\n",
    "                        break\n",
    "\n",
    "                screen.clearscreen()\n",
    "\n",
    "    screen.bye()\n",
    "\n",
    "if __name__ == \"__main__\":\n",
    "    main()\n"
   ]
  },
  {
   "cell_type": "markdown",
   "id": "9aaae6c0-ff55-44d8-bf89-c59556357ff9",
   "metadata": {},
   "source": [
    "- Orchestrates the turtle race game.\n",
    "- Initializes the game screen (screen) using setup_turtle_race(), initializes the current score (current_score), and prompts the user to specify the number of races (races) they want to play.\n",
    "\n",
    "Game Flow:\n",
    "- Iterates through each race, asking the user to bet on a turtle's color using screen.textinput().\n",
    "- Turtles are created and positioned for each race, and the finish line is displayed using functions like create_turtles(), display_finish_line(), and countdown().\n",
    "- The race is simulated (race()), and the outcome is displayed (display_result()).\n",
    "- After each race, the user is asked if they want to continue to the next race or if they want to replay the game.\n",
    "- The game ends when the user chooses not to replay or when all races have been completed.\n",
    "\n",
    "Purpose: This function controls the entire flow of the turtle race game, managing user inputs, race simulations, and displaying results to create an interactive gaming experience."
   ]
  },
  {
   "cell_type": "markdown",
   "id": "6469ceee-9bde-471c-88db-a84f80659504",
   "metadata": {},
   "source": [
    "### Conclusion\n",
    "\n",
    "Creating the Turtle race game was a delightful journey filled with learning and creativity. It was incredibly satisfying to see Python's Turtle graphics come to life, making the turtles race across the screen and engaging players in the excitement. Navigating through challenges like managing animations, handling user interactions, and refining game logic was both challenging and rewarding.\n",
    "\n",
    "The process was not just about coding; it was about crafting an interactive experience that captivates and entertains. Building features like countdowns, race simulations, and result displays added layers of engagement, making the game both fun to create and play.\n",
    "\n",
    "Takeaways:\n",
    "- This project deepened my understanding of Python's capabilities, especially in graphical programming.\n",
    "- Overcoming obstacles enhanced my ability to tackle complex problems and think creatively.\n",
    "- Developing the Turtle race game underscored the importance of user experience and interface design in creating enjoyable applications."
   ]
  }
 ],
 "metadata": {
  "kernelspec": {
   "display_name": "Python 3 (ipykernel)",
   "language": "python",
   "name": "python3"
  },
  "language_info": {
   "codemirror_mode": {
    "name": "ipython",
    "version": 3
   },
   "file_extension": ".py",
   "mimetype": "text/x-python",
   "name": "python",
   "nbconvert_exporter": "python",
   "pygments_lexer": "ipython3",
   "version": "3.12.1"
  }
 },
 "nbformat": 4,
 "nbformat_minor": 5
}
