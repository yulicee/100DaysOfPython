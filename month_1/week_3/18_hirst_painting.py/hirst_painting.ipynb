{
 "cells": [
  {
   "cell_type": "markdown",
   "id": "da591690-d4b7-4204-a3ea-f96219bdffa4",
   "metadata": {},
   "source": [
    "# Hirst Painting Project\n",
    "\n",
    "Day 18 brought me back to Turtle Graphics. After working through a few turtle-themed challenges (draw a square, draw a dashed line, draw different shapes, generate a random walk and draw a spirograph), I was prompted to the day's final project, the recreation of a contemporary art project in form of a Hirst painting.\n",
    "\n",
    "The requirements were:\n",
    "- Recreate the Hirst color palette from an existing painting\n",
    "- Position the turtle on the left side of the painting, drawing in a straight line the defined number of dots, restart at the line above from the left until all dots have been drawn\n",
    "- Do not show the line of the turtle \n",
    "- Do not show the turtle for a pleasant viewing experience"
   ]
  },
  {
   "cell_type": "markdown",
   "id": "b7ecaa49",
   "metadata": {},
   "source": [
    "### First Steps\n",
    "\n",
    "For this to work, we were supposed to find and save a picture of one of Damien Hirst's dot drawings online and then extract the colors by using colorgram. By printing the extracted colors to my terminal, I was able to get the RGB-codes. After checking for white (background) and eliminating that from the list, I was able to define my color list for the project."
   ]
  },
  {
   "cell_type": "code",
   "execution_count": 1,
   "id": "1c60d238",
   "metadata": {},
   "outputs": [],
   "source": [
    "# import colorgram\n",
    "\n",
    "# rgb_colors = []\n",
    "# colors = colorgram.extract('image.jpg', 50)\n",
    "# for color in colors:\n",
    "#    r = color.rgb.r\n",
    "#    g = color.rgb.g\n",
    "#    b = color.rgb.b\n",
    "#    new_color = (r, g, b)\n",
    "#    rgb_colors.append(new_color)\n",
    "\n",
    "# print(rgb_colors)"
   ]
  },
  {
   "cell_type": "markdown",
   "id": "f1b3fd31",
   "metadata": {},
   "source": [
    "### Import necessary libraries"
   ]
  },
  {
   "cell_type": "code",
   "execution_count": 2,
   "id": "aac0d43a",
   "metadata": {},
   "outputs": [],
   "source": [
    "import random\n",
    "import turtle as turtle_module"
   ]
  },
  {
   "cell_type": "markdown",
   "id": "bd69b128",
   "metadata": {},
   "source": [
    "- The turtle module is used for drawing the shapes and graphics.\n",
    "- The random module is used to select the colors randomly from the color list."
   ]
  },
  {
   "cell_type": "markdown",
   "id": "17041165",
   "metadata": {},
   "source": [
    "### Define Color list extracted from the image"
   ]
  },
  {
   "cell_type": "code",
   "execution_count": 3,
   "id": "0c638b95",
   "metadata": {},
   "outputs": [],
   "source": [
    "color_list = [\n",
    "    (237, 238, 243), (239, 238, 234), (235, 240, 237), (241, 233, 238), (192, 156, 118), \n",
    "    (131, 160, 181), (123, 90, 73), (59, 101, 130), (134, 73, 87), (236, 205, 107), \n",
    "    (135, 167, 150), (183, 142, 154), (135, 23, 48), (67, 113, 91), (191, 99, 84), \n",
    "    (25, 53, 79), (73, 33, 47), (137, 150, 92), (64, 48, 40), (43, 59, 108), \n",
    "    (161, 107, 117), (35, 56, 49), (92, 150, 116), (215, 179, 189), (73, 145, 175), \n",
    "    (16, 94, 103), (162, 201, 213), (223, 176, 169), (96, 49, 46), (96, 129, 164), \n",
    "    (26, 90, 85), (182, 189, 207), (174, 202, 191), (71, 67, 50), (232, 205, 14)\n",
    "]"
   ]
  },
  {
   "cell_type": "markdown",
   "id": "5e195c3c",
   "metadata": {},
   "source": [
    "- The extracted colors are saved in a list containing the RGB tuples representing different colors."
   ]
  },
  {
   "cell_type": "markdown",
   "id": "81e24753",
   "metadata": {},
   "source": [
    "### Setup of the turtle "
   ]
  },
  {
   "cell_type": "code",
   "execution_count": 4,
   "id": "a0a9d08b",
   "metadata": {},
   "outputs": [],
   "source": [
    "turtle_module.colormode(255)\n",
    "tim = turtle_module.Turtle()\n",
    "tim.speed(\"fastest\")\n",
    "tim.penup()\n",
    "tim.hideturtle()"
   ]
  },
  {
   "cell_type": "markdown",
   "id": "d7cb03ca",
   "metadata": {},
   "source": [
    "- The colormode is set to 255 using RGB color values.\n",
    "- A turtle named tim is created.\n",
    "- The speed of the turtle is set to 'fastest'.\n",
    "- The pen is lifted up so it doesn't draw lines when moving around the window.\n",
    "- The turtle cursor is hidden for a cleaner output."
   ]
  },
  {
   "cell_type": "markdown",
   "id": "eb29d852",
   "metadata": {},
   "source": [
    "### Position of the turtle in the window at the starting point"
   ]
  },
  {
   "cell_type": "code",
   "execution_count": 5,
   "id": "8dfcf208",
   "metadata": {},
   "outputs": [],
   "source": [
    "tim.setheading(225)\n",
    "tim.forward(300)\n",
    "tim.setheading(0)"
   ]
  },
  {
   "cell_type": "markdown",
   "id": "099174fa",
   "metadata": {},
   "source": [
    "- The turtle is positioned at the starting point by setting the heading to 225 degrees diagonally down and left from the middle of the window.\n",
    "- The turtle is also moved forward by 300 units and the heading is set to 0 degrees to face right."
   ]
  },
  {
   "cell_type": "markdown",
   "id": "2a216251",
   "metadata": {},
   "source": [
    "### Number of dots in the recreated painting"
   ]
  },
  {
   "cell_type": "code",
   "execution_count": 6,
   "id": "02489dd9",
   "metadata": {},
   "outputs": [],
   "source": [
    "number_of_dots = 100"
   ]
  },
  {
   "cell_type": "markdown",
   "id": "c713a958",
   "metadata": {},
   "source": [
    "- The number of dots to be drawn is set to 100."
   ]
  },
  {
   "cell_type": "markdown",
   "id": "950600ad",
   "metadata": {},
   "source": [
    "### Draw the dots"
   ]
  },
  {
   "cell_type": "code",
   "execution_count": 7,
   "id": "c52fa405",
   "metadata": {},
   "outputs": [],
   "source": [
    "for dot_count in range(1, number_of_dots + 1):\n",
    "    tim.dot(20, random.choice(color_list))\n",
    "    tim.forward(50)\n",
    "\n",
    "    if dot_count % 10 == 0: \n",
    "        tim.setheading(90)\n",
    "        tim.forward(50)\n",
    "        tim.setheading(180)\n",
    "        tim.forward(500)\n",
    "        tim.setheading(0)"
   ]
  },
  {
   "cell_type": "markdown",
   "id": "0c805df4",
   "metadata": {},
   "source": [
    "- In order to draw the dots, a for-loop is set to loop through the number of dots.\n",
    "- Dot-size is set with a diameter of 20 and a random color from the color_list.\n",
    "- the turtle moves forward by 50 units.\n",
    "- Every 10 dots, the turtle moves to the next row by setting the heading by 90 degrees to move up and move forward by 50 units to start the next row.\n",
    "- Then the heading is set to 180 degrees to face left and the turtle moves by 500 units to the beginning of the new row, which starts by setting the heading to 0 ddegrees to face right again."
   ]
  },
  {
   "cell_type": "markdown",
   "id": "8ca8bea6",
   "metadata": {},
   "source": [
    "### Exit on click"
   ]
  },
  {
   "cell_type": "code",
   "execution_count": 8,
   "id": "e030142e",
   "metadata": {},
   "outputs": [],
   "source": [
    "screen = turtle_module.Screen()\n",
    "screen.exitonclick()"
   ]
  },
  {
   "cell_type": "markdown",
   "id": "162eb85e",
   "metadata": {},
   "source": [
    "- This setting keeps the turtle graphics window open until it is clicked."
   ]
  },
  {
   "cell_type": "markdown",
   "id": "8f029354",
   "metadata": {},
   "source": [
    "## Conclusion\n",
    "\n",
    "I really enjoyed working on this project! Extracting colors from an image and then using those colors to create a dot painting with the turtle graphics module was a fun and creative experience.\n",
    "\n",
    "- Using the colorgram library to pull colors from an image was super cool. It felt like I was doing some real image processing and learning about color theory at the same time.\n",
    "- Drawing the dots with the turtle module was a great way to get more comfortable with Python’s graphics capabilities.\n",
    "- It was a good practice for using loops, conditionals, and libraries in Python.\n",
    "- Figuring out how to position the turtle correctly to make a nice grid of dots took a bit of trial and error, but it was worth it.\n",
    "- Setting the turtle to its fastest speed was a neat trick to make the drawing process quicker.\n",
    "\n",
    "Overall, this project was a fantastic mix of coding and creativity. It’s inspired me to think about more ways to combine programming with visual art, and I’m excited to try out similar projects in the future."
   ]
  }
 ],
 "metadata": {
  "kernelspec": {
   "display_name": "Python 3 (ipykernel)",
   "language": "python",
   "name": "python3"
  },
  "language_info": {
   "codemirror_mode": {
    "name": "ipython",
    "version": 3
   },
   "file_extension": ".py",
   "mimetype": "text/x-python",
   "name": "python",
   "nbconvert_exporter": "python",
   "pygments_lexer": "ipython3",
   "version": "3.12.1"
  }
 },
 "nbformat": 4,
 "nbformat_minor": 5
}
